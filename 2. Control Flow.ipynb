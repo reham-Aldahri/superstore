{
 "cells": [
  {
   "cell_type": "code",
   "execution_count": null,
   "metadata": {},
   "outputs": [],
   "source": [
    "# 2.1 Price Conditions\n",
    "# Translate the following logical decisions into python conditionals\n"
   ]
  },
  {
   "cell_type": "code",
   "execution_count": 17,
   "metadata": {},
   "outputs": [
    {
     "name": "stdout",
     "output_type": "stream",
     "text": [
      "tax15% add to price\n"
     ]
    }
   ],
   "source": [
    "# A. If the price is under 10, add 10% tax to the price. \n",
    "# Otherwise, add 15% luxury tax instead.\n",
    "\n",
    "price = 25\n",
    "if price<10:\n",
    "    price *= 1.1\n",
    "    print(\"tax 10% add to price\")\n",
    "else:\n",
    "    price= 1.15*price\n",
    "    print(\"tax15% add to price\")\n"
   ]
  },
  {
   "cell_type": "code",
   "execution_count": 30,
   "metadata": {},
   "outputs": [
    {
     "name": "stdout",
     "output_type": "stream",
     "text": [
      "28.75\n"
     ]
    }
   ],
   "source": [
    "price = 25\n",
    "if price<10:\n",
    "    price+=price*0.1\n",
    "else:\n",
    "    price+=price*0.15\n",
    "print(price)"
   ]
  },
  {
   "cell_type": "code",
   "execution_count": 31,
   "metadata": {},
   "outputs": [
    {
     "name": "stdout",
     "output_type": "stream",
     "text": [
      "23.0\n"
     ]
    }
   ],
   "source": [
    "# B. If the customer's status is \"VIP\", lower the price by 20%\n",
    "customer = { \"name\": \"Lisa Su\", \"status\": \"VIP\" }\n",
    "\n",
    "val='VIP'\n",
    "if customer['status']== val:\n",
    "    discount= price*.20\n",
    "    price-=discount\n",
    "    print(price)\n",
    "else:\n",
    "    print('not')\n",
    "    \n",
    " "
   ]
  },
  {
   "cell_type": "code",
   "execution_count": 26,
   "metadata": {},
   "outputs": [
    {
     "name": "stdout",
     "output_type": "stream",
     "text": [
      "14.719999999999999\n"
     ]
    }
   ],
   "source": [
    "   \n",
    "# from omar\n",
    "customer = { \"name\": \"Lisa Su\", \"status\": \"VIP\" }\n",
    "\n",
    "if customer['status']==\"VIP\":\n",
    "    price-=price*0.2\n",
    "    print (price)"
   ]
  },
  {
   "cell_type": "code",
   "execution_count": 32,
   "metadata": {},
   "outputs": [
    {
     "name": "stdout",
     "output_type": "stream",
     "text": [
      "You get what you pay for. Get the most. Buy now for 23.0\n"
     ]
    }
   ],
   "source": [
    "# C. Let's alter our advertising based on the price of the product, filling in the blank with the price\n",
    "#    i. If the price is less than 5, print \"For less than a cup of coffee, buy now for _____\"\n",
    "#.   ii. Otherwise, if the price is less than 20, print \"Good value. Great products. Buy now for _____\"\n",
    "#.   iii. Otherwise, print \"You get what you pay for. Get the most. Buy now for ______\"\n",
    "\n",
    "\n",
    "\n",
    "if price<5:\n",
    "    print(f'For less than a cup of coffee, buy now for {price}')\n",
    "elif price<20:\n",
    "    print(f'Good value. Great products. Buy now for {price}')\n",
    "else:\n",
    "    print(f'You get what you pay for. Get the most. Buy now for {price}')\n",
    "  "
   ]
  },
  {
   "cell_type": "code",
   "execution_count": 14,
   "metadata": {},
   "outputs": [
    {
     "name": "stdout",
     "output_type": "stream",
     "text": [
      "Your best value is the 90s Comedy DVD for only 2.99\n"
     ]
    }
   ],
   "source": [
    "# D. Given this list of products, use a conditional to figure out which has the lower price.\n",
    "#.   Print a message saying \"Your best value is the _____ for only ______\"\n",
    "#.   Fill in the blanks with the name and price of the cheaper item, respectively\n",
    "bargain_bin = [\n",
    "    {\"name\": \"90s Comedy DVD\", \"price\": 2.99},\n",
    "    {\"name\": \"80s Drama DVD\", \"price\": 3.99}\n",
    "]\n",
    "\n",
    "if bargain_bin[0]['price']< bargain_bin[1]['price']:\n",
    "    print(f\"Your best value is the {bargain_bin[0]['name']} for only {bargain_bin[0]['price']}\")\n",
    "else:\n",
    "    print(f\"Your best value is the {bargain_bin[1]['name']} for only {bargain_bin[1]['price']}\")\n"
   ]
  },
  {
   "cell_type": "code",
   "execution_count": null,
   "metadata": {},
   "outputs": [],
   "source": [
    "# 2.2 Complex Conditions"
   ]
  },
  {
   "cell_type": "code",
   "execution_count": 37,
   "metadata": {},
   "outputs": [
    {
     "name": "stdout",
     "output_type": "stream",
     "text": [
      "b is not a vowel\n"
     ]
    }
   ],
   "source": [
    "# A. Write a conditional that determines whether the letter is a vowel\n",
    "#.   Print a message stating \"___ is a vowel\" or \"___ is not a vowel\"\n",
    "letter = \"b\"\n",
    "vowel = [\"a\",\"e\",\"i\",\"o\",\"u\"]\n",
    "if letter in vowel:\n",
    "    print  (f\"{letter} is a vowel\")\n",
    "else:\n",
    "    print (f\"{letter} is not a vowel\")\n"
   ]
  },
  {
   "cell_type": "code",
   "execution_count": 54,
   "metadata": {},
   "outputs": [
    {
     "name": "stdout",
     "output_type": "stream",
     "text": [
      "tied\n"
     ]
    }
   ],
   "source": [
    "# B. Determine whether the player beat the computer at rock, paper, scissors\n",
    "#    As a reminder, \"rock\" beats \"paper\", \"paper\" beats \"scissors\", and \"scissors\" beats \"rock\"\n",
    "#.   Print a message saying whether the player won, lost, or tied\n",
    "player_choice == \"rock\"\n",
    "computer_choice = \"scissors\"\n",
    "\n",
    "if player_choice == \"rock\": \n",
    "    if computer_choice == \"paper\":\n",
    "        print ('player won')\n",
    "    elif computer_choice ==  \"scissors\":\n",
    "         print ('player lost')\n",
    "    else:\n",
    "        print (\"tied\")\n",
    "    \n",
    "elif  player_choice == \"paper\":\n",
    "    if computer_choice == \"scissors\":\n",
    "        print ('player won')\n",
    "    elif computer_choice ==  \"rock\":\n",
    "         print ('player lost')\n",
    "            \n",
    "elif player_choice == \"scissors\" and computer_choice == \"rock\":\n",
    "    print ('won')\n",
    "if player_choice == \"rock\" and computer_choice == \"scissors\":    \n",
    "else:\n",
    "    print ('tied')\n"
   ]
  },
  {
   "cell_type": "code",
   "execution_count": 55,
   "metadata": {},
   "outputs": [
    {
     "name": "stdout",
     "output_type": "stream",
     "text": [
      " scalene - all three sides are unequal in length\n"
     ]
    }
   ],
   "source": [
    "# C. Write the code that determines if the triangle is:\n",
    "#      equalateral - all three sides are equal in length\n",
    "#      scalene - all three sides are unequal in length\n",
    "#      isosceles - two sides are the same length\n",
    "side_a = 5\n",
    "side_b = 7\n",
    "side_c = 5\n",
    "\n",
    "if side_a == side_b == side_c:\n",
    "    print (\" equalateral - all three sides are equal in length\")\n",
    "elif side_a != side_b != side_c:\n",
    "    print (\" scalene - all three sides are unequal in length\")\n",
    "# elif (side_a == side_b and side_b != side_c) or(side_b == side_c and side_c!= side_a) or (side_a == side_c and side_c != side_b):   \n",
    "else:\n",
    "    print (\"isosceles - two sides are the same length\")\n",
    "\n"
   ]
  },
  {
   "cell_type": "code",
   "execution_count": 85,
   "metadata": {},
   "outputs": [
    {
     "name": "stdout",
     "output_type": "stream",
     "text": [
      "isosceles triangle\n"
     ]
    }
   ],
   "source": [
    "if side_a == side_b and side_b == side_c and side_a == side_c:\n",
    "    print(\"equalateral triangle\")\n",
    "elif side_a != side_b and side_b != side_c and side_a != side_c:\n",
    "    print('scalene trinagle')\n",
    "else:\n",
    "    print('isosceles triangle')"
   ]
  },
  {
   "cell_type": "code",
   "execution_count": 72,
   "metadata": {
    "scrolled": true
   },
   "outputs": [
    {
     "name": "stdout",
     "output_type": "stream",
     "text": [
      "Sep 25 in winter\n"
     ]
    }
   ],
   "source": [
    "# D. Calculate what season it is based upon this chart:\n",
    "#      Dec 21 - Mar 19: Winter\n",
    "#      Mar 20 - Jun 20: Spring\n",
    "#      Jun 21 - Sep 21: Summer\n",
    "#      Sep 22 - Dec 20: Fall\n",
    "# Print the result as follows:\n",
    "#      <Mmm> <dd> is in <season> \n",
    "month = \"Sep\"\n",
    "day = 25\n",
    "\n",
    "if (month == \"dec\" and day >20 ) or month == \"jan\" or \"feb\" or (month == \"mar\" and day > 18):\n",
    "    print (f\"{month} {day} in winter\" )\n",
    "\n",
    "elif (month == \"mar\" and day >19 ) or month == \"apr\" or \"may\" or (month == \"jun\" and day >20):\n",
    "    print (f\"{month} {day} in spring\" )\n",
    "    \n",
    "elif (month == \"jun\" and day >20 ) or month == \"jul\" or \"aug\" or (month == \"sep\" and day >20):\n",
    "    print (f\"{month} {day} in summer\")\n",
    "else:\n",
    "    print (f\"{month} {day} in fall\")\n",
    "\n"
   ]
  },
  {
   "cell_type": "code",
   "execution_count": 52,
   "metadata": {},
   "outputs": [
    {
     "name": "stdout",
     "output_type": "stream",
     "text": [
      "The boat is in a valid, productive state. Go boat!\n"
     ]
    }
   ],
   "source": [
    "# E. The Farmer's Boat\n",
    "boat = {\n",
    "    \"has_fox\": True,\n",
    "    \"has_chicken\": False,\n",
    "    \"has_grain\": True\n",
    "}\n",
    "# 1. If all three properties are true, print \"The boat was too heavy and sank\"\n",
    "# 2. If the boat's has_fox and has_chicken properties are true, print \"The fox ate the chicken\" \n",
    "# 3. If the boat's has_chicken and has_grain propertes are true, print \"The chicken ate the grain\"\n",
    "# 4. If none of them are true, print \"The boat sank from disuse\"\n",
    "# 5. Otherwise, print \"The boat is in a valid, productive state. Go boat!\"\n",
    "\n",
    "if boat [\"has_fox\"] and [\"has_chicken\"] and [\"has_grain\"] is True:\n",
    "    print (\"The boat was too heavy and sank\")\n",
    "elif boat [\"has_grain\"] is False:\n",
    "    print (\"The fox ate the chicken\")\n",
    "elif boat[\"has_fox\"] is False :\n",
    "    print (\"The chicken ate the grain\")\n",
    "elif boat [\"has_fox\"]and[\"has_chicken\"]and [\"has_grain\"]is False:   \n",
    "    print (\"The boat sank from disuse\")\n",
    "else:\n",
    "     print (\"The boat is in a valid, productive state. Go boat!\")\n",
    "             \n"
   ]
  },
  {
   "cell_type": "code",
   "execution_count": null,
   "metadata": {},
   "outputs": [],
   "source": [
    "# 2.3 While Loops\n",
    "# Use while loops to solve the following challenges"
   ]
  },
  {
   "cell_type": "code",
   "execution_count": 76,
   "metadata": {
    "scrolled": true
   },
   "outputs": [
    {
     "name": "stdout",
     "output_type": "stream",
     "text": [
      "90\n",
      "80\n",
      "70\n",
      "60\n",
      "50\n",
      "40\n",
      "30\n",
      "20\n",
      "10\n",
      "0\n"
     ]
    }
   ],
   "source": [
    "# A. Count down from 100 to 0 with a loop, including a print statement\n",
    "\n",
    "num= 100\n",
    "while num >0:\n",
    "    num-=10\n",
    "    print (num)"
   ]
  },
  {
   "cell_type": "code",
   "execution_count": 82,
   "metadata": {
    "scrolled": true
   },
   "outputs": [
    {
     "name": "stdout",
     "output_type": "stream",
     "text": [
      "aaaaaaaaaaaaaaaaaaaa\n"
     ]
    }
   ],
   "source": [
    "# B. Construct a string consisting of 20 \"a\" characters in a row\n",
    "\n",
    "char= \"\"\n",
    "while len(char) <20 :\n",
    "    char =char +\"a\"\n",
    "\n",
    "print (char)\n"
   ]
  },
  {
   "cell_type": "code",
   "execution_count": 83,
   "metadata": {},
   "outputs": [
    {
     "name": "stdout",
     "output_type": "stream",
     "text": [
      "acceptable_price 950\n"
     ]
    }
   ],
   "source": [
    "# C. Bring down the price variable by increments of 10 until it is lower than the acceptable_price\n",
    "price = 1000\n",
    "acceptable_price = 954\n",
    "\n",
    "while price > acceptable_price:\n",
    "    price-= 10\n",
    "    \n",
    "print (f\"acceptable_price {price}\")\n"
   ]
  },
  {
   "cell_type": "code",
   "execution_count": 68,
   "metadata": {},
   "outputs": [
    {
     "name": "stdout",
     "output_type": "stream",
     "text": [
      "['bike', 'generator', 'tools', 'car']\n"
     ]
    }
   ],
   "source": [
    "# D. Spring cleaning: remove all instances of \"mess\" from the garage_contents list\n",
    "#    Hint: Use the in operator to check if \"mess\" is still in the list, and .remove() to get rid of it\n",
    "garage = [\"bike\", \"mess\", \"generator\", \"mess\", \"mess\", \"tools\", \"car\", \"mess\"]\n",
    "\n",
    "while \"mess\" in garage:\n",
    "    garage.remove (\"mess\")\n",
    "print (garage)\n",
    "\n"
   ]
  },
  {
   "cell_type": "code",
   "execution_count": null,
   "metadata": {},
   "outputs": [],
   "source": [
    "# 2.4 For Loops\n",
    "# Use for loops to solve the following challenges"
   ]
  },
  {
   "cell_type": "code",
   "execution_count": 86,
   "metadata": {},
   "outputs": [
    {
     "name": "stdout",
     "output_type": "stream",
     "text": [
      "2\n",
      "3\n",
      "5\n",
      "8\n"
     ]
    }
   ],
   "source": [
    "# A. Print through each number in the numbers list\n",
    "numbers = [2,3,5,8]\n",
    "\n",
    "for n in numbers:\n",
    "    print (n)"
   ]
  },
  {
   "cell_type": "code",
   "execution_count": 94,
   "metadata": {},
   "outputs": [
    {
     "name": "stdout",
     "output_type": "stream",
     "text": [
      "[2, 3, 5, 8]\n"
     ]
    }
   ],
   "source": [
    "# B. Add each of the numbers to the sum_total variable.\n",
    "sum_total = 0\n",
    "for n in numbers:\n",
    "    n + sum_total\n",
    "print (numbers)"
   ]
  },
  {
   "cell_type": "code",
   "execution_count": 95,
   "metadata": {},
   "outputs": [
    {
     "name": "stdout",
     "output_type": "stream",
     "text": [
      "even\n",
      "not\n",
      "not\n",
      "even\n"
     ]
    }
   ],
   "source": [
    "# C. Print the message \"even\" for each number that divides evenly by 2\n",
    "#    Hint: The modulus symbol, %, gives you the remainder when dividing two numbers\n",
    "for n in numbers:\n",
    "    if n %2 ==0:\n",
    "        print (\"even\")\n",
    "    else:\n",
    "        print (\"not\")"
   ]
  },
  {
   "cell_type": "code",
   "execution_count": 103,
   "metadata": {},
   "outputs": [
    {
     "name": "stdout",
     "output_type": "stream",
     "text": [
      "2\n"
     ]
    }
   ],
   "source": [
    "# D. Count how many even numbers there are by adding 1 to count for each even number\n",
    "even_count = 0\n",
    "for n in numbers:\n",
    "    if n %2 ==0:\n",
    "        even_count +=1\n",
    "print (even_count)"
   ]
  },
  {
   "cell_type": "code",
   "execution_count": null,
   "metadata": {},
   "outputs": [],
   "source": [
    "# 2.5 List Comprehension\n",
    "# Use list comprehension to generate new lists for these challenges"
   ]
  },
  {
   "cell_type": "code",
   "execution_count": 136,
   "metadata": {},
   "outputs": [
    {
     "name": "stdout",
     "output_type": "stream",
     "text": [
      "['simon syas jump', 'simon syas duck', 'simon syas touch your toes']\n"
     ]
    }
   ],
   "source": [
    "# A. Add \"simon says \" to all strings in this list\n",
    "commands = [\"jump\", \"duck\", \"touch your toes\"]\n",
    "simon_said =  [f\"simon syas {i}\" for i in commands]\n",
    "print (simon_said)\n"
   ]
  },
  {
   "cell_type": "code",
   "execution_count": 139,
   "metadata": {},
   "outputs": [
    {
     "name": "stdout",
     "output_type": "stream",
     "text": [
      "[575.0, 143.75]\n"
     ]
    }
   ],
   "source": [
    "# B. Add 15% to each number above 100, and don't include other numbers\n",
    "prices = [75, 500, 125, 20, 43]\n",
    " \n",
    "tax=[ n *1.15 for n in prices if n > 100]\n",
    "\n",
    "print (tax)"
   ]
  },
  {
   "cell_type": "code",
   "execution_count": null,
   "metadata": {},
   "outputs": [],
   "source": [
    "# 2.6 Hold on to Your Loops\n",
    "# Use any variety of loop for the following challenges"
   ]
  },
  {
   "cell_type": "code",
   "execution_count": null,
   "metadata": {},
   "outputs": [],
   "source": [
    "# A. As a superfan, you want to chant each of the player's names in the following format:\n",
    "#    1. Spell out their name with a separate print statement for each letter, followed by an exclamation point\n",
    "#    2. Then, print the message \"Goooo _______!\" by inserting the full name in the blank\n",
    "players = [\"Anoushka\", \"Becky\", \"Mehreen\"]\n",
    "\n"
   ]
  },
  {
   "cell_type": "code",
   "execution_count": null,
   "metadata": {},
   "outputs": [],
   "source": [
    "# B. Customers want to know the flavors of each coffee. Use separate print statements in the following format:\n",
    "#    First, print \"_______ has the following flavors\" using the coffee name in the blank\n",
    "#    Then, print each flavor inside the coffee's flavor list\n",
    "coffee_blends = [\n",
    "    {\"name\": \"Don Manuel\", \"flavors\": [\"cocoa\", \"lime\", \"cinnamon\"]},\n",
    "    {\"name\": \"Gitwe Washed\", \"flavors\": [\"grapefruit\", \"hibiscus\", \"honey\"]}\n",
    "]"
   ]
  },
  {
   "cell_type": "code",
   "execution_count": null,
   "metadata": {},
   "outputs": [],
   "source": [
    "# C. Shop till you've dropped 1000 dollars! Add each item to the purchases list until the total price exceeds 1000\n",
    "store = [\n",
    "    {\"item\": \"mountain bike\", \"price\": 375},\n",
    "    {\"item\": \"tambourine\", \"price\": 50},\n",
    "    {\"item\": \"massage chair\", \"price\": 700},\n",
    "    {\"item\": \"worlds best programmer mug\", \"price\": 10},\n",
    "    {\"item\": \"new computer\", \"price\": 1500}\n",
    "]\n",
    "\n",
    "purchases = []\n",
    "total_price = 0"
   ]
  }
 ],
 "metadata": {
  "kernelspec": {
   "display_name": "Python 3",
   "language": "python",
   "name": "python3"
  },
  "language_info": {
   "codemirror_mode": {
    "name": "ipython",
    "version": 3
   },
   "file_extension": ".py",
   "mimetype": "text/x-python",
   "name": "python",
   "nbconvert_exporter": "python",
   "pygments_lexer": "ipython3",
   "version": "3.8.5"
  }
 },
 "nbformat": 4,
 "nbformat_minor": 4
}
