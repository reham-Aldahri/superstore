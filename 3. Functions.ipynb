{
 "cells": [
  {
   "cell_type": "code",
   "execution_count": null,
   "metadata": {},
   "outputs": [],
   "source": [
    "# 3.1 Functions"
   ]
  },
  {
   "cell_type": "code",
   "execution_count": 1,
   "metadata": {},
   "outputs": [
    {
     "data": {
      "text/plain": [
       "'C:\\\\Users\\\\reham\\\\Documents\\\\dapi'"
      ]
     },
     "execution_count": 1,
     "metadata": {},
     "output_type": "execute_result"
    }
   ],
   "source": [
    "pwd\n"
   ]
  },
  {
   "cell_type": "code",
   "execution_count": 2,
   "metadata": {},
   "outputs": [
    {
     "name": "stdout",
     "output_type": "stream",
     "text": [
      "Hello, Reham.\n"
     ]
    }
   ],
   "source": [
    "# A. Write a function that accepts one parameter, name\n",
    "#    The function should print the message \"Hello, _____.\" filling in the blank with the name\n",
    "\n",
    "def greeting (name):\n",
    "    print (f\"Hello, {name}.\")\n",
    "\n",
    "greeting (\"Reham\")\n",
    "\n",
    "\n",
    "    "
   ]
  },
  {
   "cell_type": "code",
   "execution_count": null,
   "metadata": {},
   "outputs": [],
   "source": [
    "def info():\n",
    "    name = input(\"type your name:\")\n",
    "    prt(name)\n",
    "def printing(name):\n",
    "    print(f\"Hello, {name}\")\n",
    "info()"
   ]
  },
  {
   "cell_type": "code",
   "execution_count": 8,
   "metadata": {},
   "outputs": [
    {
     "data": {
      "text/plain": [
       "False"
      ]
     },
     "execution_count": 8,
     "metadata": {},
     "output_type": "execute_result"
    }
   ],
   "source": [
    "# B. Write a function that accepts one parameter, a number\n",
    "#    The function should return true or false depending on whether the number is even\n",
    "\n",
    "def even_number (number):\n",
    "    if (number%2)==0:\n",
    "        return True\n",
    "    return False\n",
    "\n",
    "even_number(3)\n",
    "    "
   ]
  },
  {
   "cell_type": "code",
   "execution_count": null,
   "metadata": {},
   "outputs": [],
   "source": [
    "def even_odd(num):\n",
    "    if (num % 2) == 0:\n",
    "        return True\n",
    "    else:\n",
    "        return False"
   ]
  },
  {
   "cell_type": "code",
   "execution_count": 1,
   "metadata": {},
   "outputs": [
    {
     "data": {
      "text/plain": [
       "175"
      ]
     },
     "execution_count": 1,
     "metadata": {},
     "output_type": "execute_result"
    }
   ],
   "source": [
    "# C. Write a function that accepts one parameter, a list\n",
    "#    The function should return the sum total of all numbers in the list, using a loop\n",
    "\n",
    "def sum_list (listofnumber):\n",
    "    total_sum = 0\n",
    "    for n in listofnumber:\n",
    "        total_sum += n\n",
    "    return total_sum\n",
    "    \n",
    "\n",
    "sum_list (listofnumber= [12,59,89,6,9])"
   ]
  },
  {
   "cell_type": "code",
   "execution_count": null,
   "metadata": {},
   "outputs": [],
   "source": [
    "def sum_list(numbers):\n",
    "    total_sum = 0\n",
    "    for number in numbers:\n",
    "        total_sum += number\n",
    "    return total_sum\n",
    "a=[1,2,3,4]\n",
    "sum_list(a)"
   ]
  },
  {
   "cell_type": "code",
   "execution_count": 19,
   "metadata": {
    "scrolled": true
   },
   "outputs": [
    {
     "name": "stdout",
     "output_type": "stream",
     "text": [
      "Introducing Reham Aldahri, student!\n"
     ]
    }
   ],
   "source": [
    "# D. Write a function that accepts one parameter, a dictionary\n",
    "#    The function should print the message \"Introducing ______ ______, ________!\"\n",
    "#    Fill in the blanks with the \"first_name\", \"last_name\", and \"title\" properties of the dictionary\n",
    "\n",
    "def Introducing (first,last,title):\n",
    "    print (f\"Introducing {first} {last}, {title}!\")\n",
    "    \n",
    "Introducing(\"Reham\", \"Aldahri\",\"student\")\n",
    "    "
   ]
  },
  {
   "cell_type": "code",
   "execution_count": 39,
   "metadata": {},
   "outputs": [
    {
     "name": "stdout",
     "output_type": "stream",
     "text": [
      "Introducing, Reham Aldahri,data analyst!\n"
     ]
    }
   ],
   "source": [
    "def Introducing (person):\n",
    "   \n",
    " print (f\"Introducing, {person['first']} {person['last']},{person['title']}!\")\n",
    " \n",
    "person = {\"first\":\"Reham\", \"last\":\"Aldahri\", \"title\": \"data analyst\"}\n",
    "Introducing(dict_name)\n"
   ]
  },
  {
   "cell_type": "code",
   "execution_count": 15,
   "metadata": {},
   "outputs": [
    {
     "name": "stdout",
     "output_type": "stream",
     "text": [
      "introducing Nuha Alrashed , Data analyst !\n"
     ]
    }
   ],
   "source": [
    "def intro_msg(name_dic):\n",
    "    name = print(\"introducing\", name_dic[\"first_name\"],name_dic[\"last_name\"],\",\",name_dic[\"title\"],\"!\")\n",
    "    return name\n",
    "name_dic = {\"first_name\":\"Nuha\", \"last_name\":\"Alrashed\", \"title\":\"Data analyst\"}\n",
    "intro_msg(name_dic)"
   ]
  },
  {
   "cell_type": "code",
   "execution_count": null,
   "metadata": {},
   "outputs": [],
   "source": [
    "# 3.2 Problem-Solving Functions"
   ]
  },
  {
   "cell_type": "markdown",
   "metadata": {},
   "source": []
  },
  {
   "cell_type": "code",
   "execution_count": 116,
   "metadata": {},
   "outputs": [
    {
     "data": {
      "text/plain": [
       "'reiuzsmejogvdrl'"
      ]
     },
     "execution_count": 116,
     "metadata": {},
     "output_type": "execute_result"
    }
   ],
   "source": [
    "# A. Find the longest string in a given list of strings\n",
    "\n",
    "def longest_one (strings):\n",
    "    longest =strings[0]\n",
    "    for string in list_name:\n",
    "        if len(string) > len(longest):\n",
    "            longest = string\n",
    "    return longest\n",
    "\n",
    "\n",
    "list_name = ['ugsdcfuainlzc','reiuzsmejogvdrl','eijoP3FE','RTHTYGX']\n",
    "longest_one(list_name)"
   ]
  },
  {
   "cell_type": "code",
   "execution_count": 77,
   "metadata": {},
   "outputs": [
    {
     "name": "stdout",
     "output_type": "stream",
     "text": [
      "<function longest_string at 0x000002AE99661940>\n"
     ]
    }
   ],
   "source": [
    "\n",
    "max(list_name, key= len)\n",
    "print(longest_string)\n",
    "\n",
    "list_name =['ugsdcfuainlzc','reiuzsmejogvdrl','eijoP3FE','RTHTYGX']"
   ]
  },
  {
   "cell_type": "code",
   "execution_count": null,
   "metadata": {},
   "outputs": [],
   "source": [
    "# B. Determine whether a given list contains a given value\n"
   ]
  },
  {
   "cell_type": "code",
   "execution_count": 68,
   "metadata": {},
   "outputs": [
    {
     "data": {
      "text/plain": [
       "False"
      ]
     },
     "execution_count": 68,
     "metadata": {},
     "output_type": "execute_result"
    }
   ],
   "source": [
    "def mystery_function(list1,value): \n",
    "    for i in range( len(list1) ):\n",
    "                if(list1[i] == value):\n",
    "                        return True\n",
    "                return False   \n",
    "            \n",
    "list1=['sydbc','erythy','u76u65re']\n",
    "aa= 'jhi'\n",
    "mystery_function(list1, aa) \n"
   ]
  },
  {
   "cell_type": "code",
   "execution_count": 72,
   "metadata": {},
   "outputs": [
    {
     "data": {
      "text/plain": [
       "False"
      ]
     },
     "execution_count": 72,
     "metadata": {},
     "output_type": "execute_result"
    }
   ],
   "source": [
    "def mystery_function(list1,value):  \n",
    "    # هنا عرفنا الفنكشن   و هوا بياخد معاملين\n",
    "    # المعاملين هنا مهتهم المقارنة  زي ما ح نشوف في السطر الي بعده\n",
    "\n",
    "    for i in range(len(list1) ):\n",
    "# سوينا لووب , واخترنا (آي) من المجال الي في (لست1)\n",
    "# الطول هنا ما حسيته مهم , لانه هوا الفكرة منه انه طالما بنزود ف القائمة نحطه عشان ما نعدل الكود كل مرة \n",
    "                if(list1[i] == value): \n",
    "# لو لقينا انه ال (آي)  نفس الفاليو \n",
    "                        return True\n",
    "# رجع القيمة ل صحيح \n",
    "                return False\n",
    "            \n",
    "            \n",
    "list1=['sydbc','erythy','u76u65re']\n",
    "aa= 'jhi'\n",
    "mystery_function(list1, aa) \n"
   ]
  },
  {
   "cell_type": "code",
   "execution_count": 70,
   "metadata": {},
   "outputs": [
    {
     "data": {
      "text/plain": [
       "4"
      ]
     },
     "execution_count": 70,
     "metadata": {},
     "output_type": "execute_result"
    }
   ],
   "source": [
    "# C. Count how many times a given string contains a given letter\n",
    "\n",
    "my_string = \"Mary had a little lamb\"\n",
    "sum(char == 'a' for char in my_string)"
   ]
  },
  {
   "cell_type": "code",
   "execution_count": 111,
   "metadata": {},
   "outputs": [
    {
     "data": {
      "text/plain": [
       "6"
      ]
     },
     "execution_count": 111,
     "metadata": {},
     "output_type": "execute_result"
    }
   ],
   "source": [
    "def counting (word, char):\n",
    "    our_count = 0\n",
    "    for char2 in word:\n",
    "        if char2 == char:\n",
    "            our_count+=1\n",
    "    return our_count\n",
    "\n",
    "counting ('this is string with lots of strings','s')"
   ]
  },
  {
   "cell_type": "code",
   "execution_count": null,
   "metadata": {},
   "outputs": [],
   "source": [
    "def counting (word, char):\n",
    "    our_count = 0\n",
    "    for char2 in word:\n",
    "        if char2 == char:\n",
    "            our_count+=1\n",
    "    return our_count\n",
    "\n",
    "counting ('this is string with lots of strings','is')"
   ]
  },
  {
   "cell_type": "code",
   "execution_count": 55,
   "metadata": {},
   "outputs": [],
   "source": [
    "# D. Find the most common letter in a given string, and use the previous function in your answer\n",
    "\n",
    "def find_longest (list1):\n",
    "    max =('euirngbtolmh','tyiutykj','tutyirtk')\n",
    "    print (list1)\n",
    "    \n",
    "list1 = [123, 'xyz', 'zara', 'abc']\n",
    "#print \"Max value element : \"max(list1);"
   ]
  },
  {
   "cell_type": "code",
   "execution_count": 8,
   "metadata": {},
   "outputs": [
    {
     "data": {
      "text/plain": [
       "18.0"
      ]
     },
     "execution_count": 8,
     "metadata": {},
     "output_type": "execute_result"
    }
   ],
   "source": [
    "# E. Find the area of a triangle given its length and height as parameters\n",
    "\n",
    "def calculate_area(length, height):\n",
    "        return 0.5*length * height\n",
    "\n",
    "calculate_area(4,9)\n",
    "\n"
   ]
  },
  {
   "cell_type": "code",
   "execution_count": 16,
   "metadata": {},
   "outputs": [
    {
     "name": "stdout",
     "output_type": "stream",
     "text": [
      "Welcome to ToDoVille! Here are your items:\n",
      "Awaiting further commands. [q] to quit, [a] to add new item, [p] to print list: p\n",
      "Awaiting further commands. [q] to quit, [a] to add new item, [p] to print list: a\n",
      "Type your todo below: ruba\n",
      "Awaiting further commands. [q] to quit, [a] to add new item, [p] to print list: q\n"
     ]
    }
   ],
   "source": [
    "# 3.3 So Much To Do\n",
    "# Reading code can be just as important as writing code!\n",
    "# Add a comment to each line of this python script, attempting to explain what it does\n",
    "\n",
    "with open(\"./to_do_list.txt\", \"a+\") as file:\n",
    "    print(\"Welcome to ToDoVille! Here are your items:\")\n",
    "    file.seek(0)\n",
    "    lines = file.readlines()\n",
    "    for line in lines:\n",
    "        print(line)\n",
    "    current_command = \"\"\n",
    "    while(current_command != \"q\"):\n",
    "        current_command = input(\"Awaiting further commands. [q] to quit, [a] to add new item, [p] to print list: \")\n",
    "        if(current_command == \"a\"):\n",
    "            new_item = input(\"Type your todo below: \")\n",
    "            file.write(new_item + \"\\n\")\n",
    "        elif(current_command == \"p\"):\n",
    "            file.seek(0)\n",
    "            lines = file.readlines()\n",
    "            for line in lines:\n",
    "                print(line)"
   ]
  },
  {
   "cell_type": "code",
   "execution_count": 20,
   "metadata": {},
   "outputs": [],
   "source": [
    "import random "
   ]
  },
  {
   "cell_type": "code",
   "execution_count": 25,
   "metadata": {},
   "outputs": [
    {
     "name": "stdout",
     "output_type": "stream",
     "text": [
      "6\n"
     ]
    }
   ],
   "source": [
    "random_die_roll = random.randint(1,6)\n",
    "print(random_die_roll)"
   ]
  },
  {
   "cell_type": "code",
   "execution_count": null,
   "metadata": {},
   "outputs": [],
   "source": [
    "# 3.4 Writing to CSV\n",
    "employees = [\n",
    "  {\n",
    "    \"first_name\": \"Hennah\", \n",
    "    \"last_name\": \"Chadwick\",\n",
    "    \"job_title\": \"Vice President\",\n",
    "    \"hire_date\": 1985,\n",
    "    \"performance_review\": \"excellent\"\n",
    "  }, {\n",
    "    \"first_name\": \"Michael\", \n",
    "    \"last_name\": \"Bolton\",\n",
    "    \"job_title\": \"Programmer\",\n",
    "    \"hire_date\": 1995,\n",
    "    \"performance_review\": \"poor\"\n",
    "  }, {\n",
    "    \"first_name\": \"Ellesse\", \n",
    "    \"last_name\": \"Jaramillo\",\n",
    "    \"job_title\": \"Programmer\",\n",
    "    \"hire_date\": 1989,\n",
    "    \"performance_review\": \"poor\"\n",
    "  }, {\n",
    "    \"first_name\": \"Samir\", \n",
    "    \"last_name\": \"Nagheenanajar\",\n",
    "    \"job_title\": \"Programmer\",\n",
    "    \"hire_date\": 1974,\n",
    "    \"performance_review\": \"fair\"\n",
    "  }, {\n",
    "    \"first_name\": \"Milton\", \n",
    "    \"last_name\": \"Waddams\",\n",
    "    \"job_title\": \"Collator\",\n",
    "    \"hire_date\": 1974,\n",
    "    \"performance_review\": \"does he even work here?\"\n",
    "  }, {\n",
    "    \"first_name\": \"Bob\", \n",
    "    \"last_name\": \"Porter\",\n",
    "    \"job_title\": \"Consultant\",\n",
    "    \"hire_date\": 1999,\n",
    "    \"performance_review\": \"excellent\"\n",
    "  }, {\n",
    "    \"first_name\": \"Bob\", \n",
    "    \"last_name\": \"Slydell\",\n",
    "    \"job_title\": \"Consultant\",\n",
    "    \"hire_date\": 1999,\n",
    "    \"performance_review\": \"excellent\"\n",
    "  }\n",
    "]\n",
    "# A. Write the above list of dictionaries to a csv file\n",
    "#    Include a column named \"action_item\" with the following logic:\n",
    "#    If the performance_review is \"poor\" the action_item should be \"terminate\"\n",
    "#    If the performance_review is \"excellent\" the action_item should be \"bonus\"\n",
    "#    Otherwise, the action_item should be \"attend GA workshop\""
   ]
  },
  {
   "cell_type": "code",
   "execution_count": null,
   "metadata": {},
   "outputs": [],
   "source": [
    "# 3.5 Stretch Goal: Ultimate RPS Challenge\n",
    "# Complete the following game to create csv records of each round's results\n",
    "import random\n",
    "import csv\n",
    "import os\n",
    "choices = [\"rock\", \"paper\", \"scissors\"]\n",
    "headings = [\"player_choice\", \"computer_choice\", \"result\"]\n",
    "\n",
    "# This is the logic to create the results csv if it doesn't exist already\n",
    "if not os.path.exists(\"./rock_paper_scissors_results.csv\"):\n",
    "    with open(\"./rock_paper_scissors_results.csv\", \"w\") as file:\n",
    "        # A. Use csv.DictWriter to write the headings into the file\n",
    "        \n",
    "def store_result(player_choice, computer_choice, result, file):\n",
    "    # B. This function should write game results to the csv file using csv.DictWriter\n",
    "        \n",
    "with open(\"./rock_paper_scissors_results.csv\", \"a+\") as file:\n",
    "    current_choice = \"\"\n",
    "    print(\"Welcome to the arena of RPS!\")\n",
    "    while(current_choice != \"q\"):\n",
    "        # C. Solicit the user's input of the three choices. Include a choice to hit q to quit as well.\n",
    "        \n",
    "        # D. Set a variable named computer_choice equal to a random choice from the choices list\n",
    "\n",
    "        if(current_choice == \"rock\"):\n",
    "            if(computer_choice == \"paper\"):\n",
    "                store_result(current_choice, computer_choice, \"loss\", file)\n",
    "            elif(computer_choice == \"scissors\"):\n",
    "                store_result(current_choice, computer_choice, \"win\", file)\n",
    "            else:\n",
    "                store_result(current_choice, computer_choice, \"tie\", file)\n",
    "        elif(current_choice == \"paper\"):\n",
    "            if(computer_choice == \"scissors\"):\n",
    "                store_result(current_choice, computer_choice, \"loss\", file)\n",
    "            elif(computer_choice == \"rock\"):\n",
    "                store_result(current_choice, computer_choice, \"win\", file)\n",
    "            else:\n",
    "                store_result(current_choice, computer_choice, \"tie\", file)\n",
    "        elif(current_choice == \"scissors\"):\n",
    "            if(computer_choice == \"rock\"):\n",
    "                store_result(current_choice, computer_choice, \"loss\", file)\n",
    "            elif(computer_choice == \"paper\"):\n",
    "                store_result(current_choice, computer_choice, \"win\", file)\n",
    "            else:\n",
    "                store_result(current_choice, computer_choice, \"tie\", file)\n",
    "        elif(current_choice != \"q\"):\n",
    "            print(\"Invalid choice! Try again.\")\n",
    "            \n",
    "\n",
    "with open(\"./rock_paper_scissors_results.csv\", \"r\") as file:\n",
    "    wins = 0\n",
    "    losses = 0\n",
    "    # E. Analyze the csv of results by counting how many wins and losses there have been using csv.DictReader\n",
    "    #    Print a message listing the total wins and losses in the csv"
   ]
  }
 ],
 "metadata": {
  "kernelspec": {
   "display_name": "Python 3",
   "language": "python",
   "name": "python3"
  },
  "language_info": {
   "codemirror_mode": {
    "name": "ipython",
    "version": 3
   },
   "file_extension": ".py",
   "mimetype": "text/x-python",
   "name": "python",
   "nbconvert_exporter": "python",
   "pygments_lexer": "ipython3",
   "version": "3.8.5"
  }
 },
 "nbformat": 4,
 "nbformat_minor": 4
}
