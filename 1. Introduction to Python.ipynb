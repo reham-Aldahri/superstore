{
 "cells": [
  {
   "cell_type": "code",
   "execution_count": null,
   "metadata": {},
   "outputs": [],
   "source": [
    "# 1.1 Our First Jupyter Cell\n",
    "# Select this cell and execute it by clicking run or using the shortcut, ctrl + enter\n",
    "# This will display the \"Zen of Python,\" describing the philosophy behind python\n",
    "import this"
   ]
  },
  {
   "cell_type": "code",
   "execution_count": null,
   "metadata": {},
   "outputs": [],
   "source": [
    "# 1.2 Introduce Yourself\n",
    "# Define the variables greeting, name, and mood, and assign them string-type values\n",
    "# Then, execute this cell to see an introduction message printed to the console\n",
    "\n",
    "\n",
    "print(greeting + \", my name is \" + name + \" and I am \" + mood + \" about learning python.\")"
   ]
  },
  {
   "cell_type": "code",
   "execution_count": null,
   "metadata": {},
   "outputs": [],
   "source": [
    "# 1.3 Operators and Updating Variables\n",
    "# Define numeric variables for the month and day of your birthdate to be used whenever requested\n",
    "\n",
    "\n",
    "# Write a new line of code beneath each comment, always updating the birthdate variable as you do so\n",
    "birthdate = 7\n",
    "# Multiply by the month \n",
    "\n",
    "# Subtract 1\n",
    "\n",
    "# Multiply by 13\n",
    "\n",
    "# Add the day of your birth\n",
    "\n",
    "# Add 3\n",
    "\n",
    "# Multiply by 11\n",
    "\n",
    "# Subtract the month of your birth\n",
    "\n",
    "# Subtract the day of your birth\n",
    "\n",
    "# Divide by 10\n",
    "\n",
    "# Add 11\n",
    "\n",
    "# Divide by 100\n",
    "\n",
    "# birthdate should now be a floating point number with the day.month of your birthday\n",
    "print(birthdate)"
   ]
  },
  {
   "cell_type": "code",
   "execution_count": null,
   "metadata": {},
   "outputs": [],
   "source": [
    "# 1.4 f-string formatting\n",
    "# re-print the statement in 1.2 using f-string formatting\n"
   ]
  },
  {
   "cell_type": "code",
   "execution_count": null,
   "metadata": {},
   "outputs": [],
   "source": [
    "# 1.5 Code Fast and Break Things\n",
    "# Each of the following lines of code is mistaken in some way\n",
    "# Either they contain errors or don't do what the user would expect them to\n",
    "# Correct each example, and write a comment explaining what went wrong"
   ]
  },
  {
   "cell_type": "code",
   "execution_count": null,
   "metadata": {},
   "outputs": [],
   "source": [
    "# A.\n",
    "my_variable\n",
    "print(my_variable)"
   ]
  },
  {
   "cell_type": "code",
   "execution_count": null,
   "metadata": {},
   "outputs": [],
   "source": [
    "# B.\n",
    "# Why didn't it print ten?\n",
    "my_number = 5\n",
    "my_number + 5\n",
    "print(my_number)"
   ]
  },
  {
   "cell_type": "code",
   "execution_count": null,
   "metadata": {},
   "outputs": [],
   "source": [
    "# C.\n",
    "my_num = 5\n",
    "my_string = \"Hello\"\n",
    "print(my_num + my_string)"
   ]
  },
  {
   "cell_type": "code",
   "execution_count": null,
   "metadata": {},
   "outputs": [],
   "source": [
    "# D.\n",
    "# The user expected the result to be 30!\n",
    "my_num1 = \"10\"\n",
    "my_num2 = \"20\"\n",
    "print(my_num1 + my_num2)"
   ]
  },
  {
   "cell_type": "code",
   "execution_count": null,
   "metadata": {},
   "outputs": [],
   "source": [
    "# E.\n",
    "# The user expected the message to read \"I enjoy python in the morning.\"\n",
    "language = \"python\"\n",
    "print(f\"I enjoy {language} in the morning\")"
   ]
  },
  {
   "cell_type": "code",
   "execution_count": null,
   "metadata": {},
   "outputs": [],
   "source": [
    "# F.\n",
    "# The user expected the message to read \"There are 2 plums at home for me\"\n",
    "number_of_plums = 2\n",
    "who_plums_are_for = me\n",
    "print(\"There are \" + number_of_plums + \" plums at home for \" + who_plums_are_for)"
   ]
  },
  {
   "cell_type": "code",
   "execution_count": null,
   "metadata": {},
   "outputs": [],
   "source": [
    "# 1.6 Colors of the Rainbow\n",
    "# A. Make a list called colors that stores 7 strings, each a color of the rainbow\n",
    "\n",
    "# B. Then, print the following string, using list indices to access the specific colors:\n",
    "# \"The colors of the rainbow are red, orange, yellow, green, blue, indigo, and violet\"\n",
    "#  String concatenation might get a bit complex to read: try using an f-string for string interpolation!\n",
    "\n",
    "# C. Change two of the colors to more descriptive names, such as \"Lightning Yellow\" or \"Deep Sea Blue\"\n",
    "\n",
    "# D. Print the two new color names using list indices to access them\n",
    "\n",
    "# E. Print the colors variable to see the difference between printing a specific item and printing the list itself"
   ]
  },
  {
   "cell_type": "code",
   "execution_count": null,
   "metadata": {},
   "outputs": [],
   "source": [
    "# 1.7 The Wait List\n",
    "# You will have to research some new methods to use for these challenges\n",
    "# You can use print statements to investigate whether your changes have succeeded as expected\n",
    "candidates = [\"Alice\", \"Boris\", \"Carmen\"]\n",
    "\n",
    "# A. A promising new applicant, Diego, needs to be added to the end of the list\n",
    "\n",
    "# B. Alice has informed us of a typo on their application: change their name to \"Alyce\"\n",
    "\n",
    "# C. One of our generous donors has a nephew, Aaron, who should be added to the very front of the list\n",
    "\n",
    "# D. Boris's parents are concerned. Use the .index() method to print a message explaining Boris's place in the list\n",
    "\n",
    "# E. Carmen is upset by the priority given to relatives of donors, and has withdrawn their application.\n",
    "#    Use the .remove() method to remove them from the list.\n",
    "\n",
    "# F. Use a method to remove the very first student in the list, as they have now been accepted!\n",
    "\n",
    "# G. DeSean has submitted an impressive personal statement. Place them at index 1 by using .insert()\n",
    "\n",
    "# H. We've been audited by the Board for Educational Fairness! Print the list of candidates.\n",
    "#    It should look like this: [\"Alyce\", \"DeSean\", Boris\", \"Diego\"]"
   ]
  },
  {
   "cell_type": "code",
   "execution_count": null,
   "metadata": {},
   "outputs": [],
   "source": [
    "# 1.8 Key Value Properties\n",
    "# Use the house dictionary for the following challenges\n",
    "house = { \"address\": \"123 Fake Street\", \"price\": 750000, \"bedrooms\": 3}\n",
    "\n",
    "# A. Buyers can't find the house without a zip code! Add a zip_code property equal to \"95404\"\n",
    "\n",
    "# B. Our web designers want a statement reading: \"This 3 bedroom house costs 250000\"\n",
    "#    Print that statement by accessing the values from the dictionary: do NOT \"hard-code\" the string!\n",
    "\n",
    "# C. We're getting a lot of interest in the house! Let's increase the price by 10%\n",
    "\n",
    "# D. Buyers are surprised at how small the house is. Let's add a square_feet property equal to 750\n",
    "\n",
    "# E. We want to show off the value per foot. Print a message explaining the price per square foot.\n",
    "\n",
    "# F. After 2 long hours on the market, the house has finally sold! Add a status property equal to \"sold\"\n",
    "\n",
    "# G. Print the entire listing. You should see a dictionary similar to the following:\n",
    "# {address: \"123 Fake Street\", price: 825000, bedrooms: 3, zip_code: \"95404\" square_feet: 750, status: \"sold\"}"
   ]
  },
  {
   "cell_type": "code",
   "execution_count": null,
   "metadata": {},
   "outputs": [],
   "source": [
    "# 1.9 Python Librarian\n",
    "\n",
    "authors = {\n",
    "    \"Arundhati Roy\": {\n",
    "        \"genre\": \"literary fiction\",\n",
    "        \"books\": [\n",
    "            \"The God of Small Things\",\n",
    "            \"The Ministry of Utmost Happiness\"\n",
    "        ],\n",
    "        \"active\": True\n",
    "    },\n",
    "    \"Brandon Sanderson\": {\n",
    "        \"genre\": \"fantasy\",\n",
    "        \"books\": [\n",
    "            \"The Way of Kings\",\n",
    "            \"Words of Radiance\",\n",
    "            \"Oathbringer\"\n",
    "        ],\n",
    "        \"active\": True,\n",
    "        \"phone\": {\n",
    "            \"home\": \"(281) 330-8004\",\n",
    "            \"work\": \"(877) CASH-NOW\"\n",
    "        }\n",
    "    },\n",
    "    \"Kobo Abe\": {\n",
    "        \"genre\": \"absurdist fiction\",\n",
    "        \"books\": [\n",
    "            \"The Woman in the Dunes\",\n",
    "            \"The Face of Another\"\n",
    "        ],\n",
    "        \"active\": False\n",
    "    },\n",
    "}"
   ]
  },
  {
   "cell_type": "code",
   "execution_count": null,
   "metadata": {},
   "outputs": [],
   "source": [
    "# A. Access and print Arundhati Roy's first book\n"
   ]
  },
  {
   "cell_type": "code",
   "execution_count": null,
   "metadata": {},
   "outputs": [],
   "source": [
    "# B. We need to contact Brandon at work: access and print their work phone number\n"
   ]
  },
  {
   "cell_type": "code",
   "execution_count": null,
   "metadata": {},
   "outputs": [],
   "source": [
    "# C. Create a list composed of all the genres available in our library"
   ]
  },
  {
   "cell_type": "code",
   "execution_count": null,
   "metadata": {},
   "outputs": [],
   "source": [
    "# D. Create a list of all books available in our library\n"
   ]
  },
  {
   "cell_type": "code",
   "execution_count": null,
   "metadata": {},
   "outputs": [],
   "source": [
    "# E. Arundhati has decided to expand their range of genres and tackle non-fiction\n",
    "#    Modify their \"genre\" property to now be a list that also includes non-fiction"
   ]
  },
  {
   "cell_type": "code",
   "execution_count": null,
   "metadata": {},
   "outputs": [],
   "source": [
    "# F. Brandon Sanderson is retiring. Change their active property to False.\n",
    "#    BONUS: This means we should no longer contact them. Delete their \"phone\" property"
   ]
  },
  {
   "cell_type": "code",
   "execution_count": null,
   "metadata": {},
   "outputs": [],
   "source": [
    "# G. Add a new author to our collection of your choice. Make sure they have:\n",
    "#    i. A genre property equal to a string or list of strings\n",
    "#    ii. A books property equal to a list of strings\n",
    "#    iii. An active property equal to a boolean\n",
    "#    iv. Another property that is also a dictionary with one or more properties"
   ]
  },
  {
   "cell_type": "code",
   "execution_count": null,
   "metadata": {},
   "outputs": [],
   "source": [
    "# OPTIONAL EXTRA PRACTICE\n",
    "# How many ways to print with variables\n",
    "# Programming provides many ways of doing the same thing\n",
    "# We've learned about concatenation and f-string interpolation so far\n",
    "# Below, research and demonstrate four different ways of including variables in a string in python\n",
    "# You don't need to understand exactly how they're working to get them to work!"
   ]
  }
 ],
 "metadata": {
  "kernelspec": {
   "display_name": "Python 3",
   "language": "python",
   "name": "python3"
  },
  "language_info": {
   "codemirror_mode": {
    "name": "ipython",
    "version": 3
   },
   "file_extension": ".py",
   "mimetype": "text/x-python",
   "name": "python",
   "nbconvert_exporter": "python",
   "pygments_lexer": "ipython3",
   "version": "3.8.3"
  }
 },
 "nbformat": 4,
 "nbformat_minor": 4
}
