{
 "cells": [
  {
   "cell_type": "markdown",
   "metadata": {},
   "source": [
    "<img src=\"http://imgur.com/1ZcRyrc.png\" style=\"float: left; margin: 20px; height: 55px\">\n",
    "\n",
    "\n",
    "# Data exploration process for superStore dataset\n",
    "\n",
    "by: Reham AlDhari\n"
   ]
  },
  {
   "cell_type": "markdown",
   "metadata": {},
   "source": [
    "- Pulling data \n",
    "- understad the data set \n",
    "- looking at the data types inside each series on the data frame \n",
    "- Applying some EDA demonstrations.\n",
    "- Cleaning the data\n",
    "- Displaying data in visualizations.\n"
   ]
  },
  {
   "cell_type": "code",
   "execution_count": 63,
   "metadata": {},
   "outputs": [],
   "source": [
    "# call libraries to use it for explorining, analyzing, and visualiztion the data \n",
    "import pandas as pd\n",
    "import numpy as np\n",
    "import seaborn as sns\n",
    "import matplotlib.pyplot as plt\n",
    "\n",
    "plt.style.use('fivethirtyeight')\n",
    "%matplotlib inline"
   ]
  },
  {
   "cell_type": "markdown",
   "metadata": {},
   "source": [
    "# Load the data sets"
   ]
  },
  {
   "cell_type": "code",
   "execution_count": 64,
   "metadata": {},
   "outputs": [
    {
     "name": "stdout",
     "output_type": "stream",
     "text": [
      "<class 'pandas.core.frame.DataFrame'>\n",
      "RangeIndex: 999991 entries, 0 to 999990\n",
      "Data columns (total 12 columns):\n",
      " #   Column       Non-Null Count   Dtype  \n",
      "---  ------       --------------   -----  \n",
      " 0   order_id     999991 non-null  object \n",
      " 1   order_date   999991 non-null  object \n",
      " 2   ship_date    999991 non-null  object \n",
      " 3   ship_mode    999991 non-null  object \n",
      " 4   customer_id  999991 non-null  object \n",
      " 5   product_id   999991 non-null  object \n",
      " 6   sales        999991 non-null  float64\n",
      " 7   quantity     999991 non-null  int64  \n",
      " 8   discount     999991 non-null  float64\n",
      " 9   profit       999991 non-null  float64\n",
      " 10  postal_code  192888 non-null  float64\n",
      " 11  region_id    999795 non-null  float64\n",
      "dtypes: float64(5), int64(1), object(6)\n",
      "memory usage: 91.6+ MB\n"
     ]
    }
   ],
   "source": [
    "# Read in the orders from superstore data.\n",
    "store=pd.read_csv('orders.csv')\n",
    "\n",
    "# get infomations\n",
    "store.info()\n"
   ]
  },
  {
   "cell_type": "markdown",
   "metadata": {},
   "source": [
    "# clean up the data"
   ]
  },
  {
   "cell_type": "markdown",
   "metadata": {},
   "source": [
    " Dealing with Missing Values"
   ]
  },
  {
   "cell_type": "markdown",
   "metadata": {},
   "source": [
    "\n",
    "- I have noticed the missing values in two columns ,'region_id' and 'postal_code'\n",
    "- the missing values in 'region_id' will be deleted , and 'postal_code' will be replaced \n"
   ]
  },
  {
   "cell_type": "code",
   "execution_count": 66,
   "metadata": {},
   "outputs": [],
   "source": [
    "# create a new dataset to deal with the missing values \n",
    "# drop the row that contains missing data in the column 'region_id'\n",
    "N_df=store.dropna(subset=['region_id'])"
   ]
  },
  {
   "cell_type": "code",
   "execution_count": 67,
   "metadata": {},
   "outputs": [
    {
     "name": "stdout",
     "output_type": "stream",
     "text": [
      "<class 'pandas.core.frame.DataFrame'>\n",
      "Int64Index: 999795 entries, 0 to 999990\n",
      "Data columns (total 12 columns):\n",
      " #   Column       Non-Null Count   Dtype  \n",
      "---  ------       --------------   -----  \n",
      " 0   order_id     999795 non-null  object \n",
      " 1   order_date   999795 non-null  object \n",
      " 2   ship_date    999795 non-null  object \n",
      " 3   ship_mode    999795 non-null  object \n",
      " 4   customer_id  999795 non-null  object \n",
      " 5   product_id   999795 non-null  object \n",
      " 6   sales        999795 non-null  float64\n",
      " 7   quantity     999795 non-null  int64  \n",
      " 8   discount     999795 non-null  float64\n",
      " 9   profit       999795 non-null  float64\n",
      " 10  postal_code  192888 non-null  float64\n",
      " 11  region_id    999795 non-null  float64\n",
      "dtypes: float64(5), int64(1), object(6)\n",
      "memory usage: 99.2+ MB\n"
     ]
    }
   ],
   "source": [
    "N_df.info()"
   ]
  },
  {
   "cell_type": "code",
   "execution_count": 68,
   "metadata": {},
   "outputs": [],
   "source": [
    "# replace the missing details in the 'postal_code' by 'unknown'\n",
    "new_store= N_df.fillna('unknown')"
   ]
  },
  {
   "cell_type": "markdown",
   "metadata": {},
   "source": [
    "# converting data type "
   ]
  },
  {
   "cell_type": "code",
   "execution_count": 69,
   "metadata": {},
   "outputs": [],
   "source": [
    "#change the data type for the 'order_date' and 'ship_date' to datetime data type\n",
    "new_store[['order_date','ship_date']]=new_store[['order_date','ship_date']].apply(pd.to_datetime)"
   ]
  },
  {
   "cell_type": "code",
   "execution_count": 70,
   "metadata": {
    "scrolled": true
   },
   "outputs": [
    {
     "name": "stdout",
     "output_type": "stream",
     "text": [
      "<class 'pandas.core.frame.DataFrame'>\n",
      "Int64Index: 999795 entries, 0 to 999990\n",
      "Data columns (total 12 columns):\n",
      " #   Column       Non-Null Count   Dtype         \n",
      "---  ------       --------------   -----         \n",
      " 0   order_id     999795 non-null  object        \n",
      " 1   order_date   999795 non-null  datetime64[ns]\n",
      " 2   ship_date    999795 non-null  datetime64[ns]\n",
      " 3   ship_mode    999795 non-null  object        \n",
      " 4   customer_id  999795 non-null  object        \n",
      " 5   product_id   999795 non-null  object        \n",
      " 6   sales        999795 non-null  float64       \n",
      " 7   quantity     999795 non-null  int64         \n",
      " 8   discount     999795 non-null  float64       \n",
      " 9   profit       999795 non-null  float64       \n",
      " 10  postal_code  999795 non-null  object        \n",
      " 11  region_id    999795 non-null  float64       \n",
      "dtypes: datetime64[ns](2), float64(4), int64(1), object(5)\n",
      "memory usage: 99.2+ MB\n"
     ]
    }
   ],
   "source": [
    "new_store.info()"
   ]
  },
  {
   "cell_type": "code",
   "execution_count": 71,
   "metadata": {},
   "outputs": [],
   "source": [
    "# add a new column called 'order year' to visualize it later\n",
    "new_store['order_year']=new_store['order_date'].dt.year"
   ]
  },
  {
   "cell_type": "code",
   "execution_count": 72,
   "metadata": {},
   "outputs": [],
   "source": [
    "# create a new column 'days_to_ship' to categorize the shipping speed\n",
    "new_store['days_to_ship']=((new_store.ship_date)- (new_store.order_date)).dt.days"
   ]
  },
  {
   "cell_type": "code",
   "execution_count": 73,
   "metadata": {},
   "outputs": [
    {
     "data": {
      "text/html": [
       "<div>\n",
       "<style scoped>\n",
       "    .dataframe tbody tr th:only-of-type {\n",
       "        vertical-align: middle;\n",
       "    }\n",
       "\n",
       "    .dataframe tbody tr th {\n",
       "        vertical-align: top;\n",
       "    }\n",
       "\n",
       "    .dataframe thead th {\n",
       "        text-align: right;\n",
       "    }\n",
       "</style>\n",
       "<table border=\"1\" class=\"dataframe\">\n",
       "  <thead>\n",
       "    <tr style=\"text-align: right;\">\n",
       "      <th></th>\n",
       "      <th>order_id</th>\n",
       "      <th>order_date</th>\n",
       "      <th>ship_date</th>\n",
       "      <th>ship_mode</th>\n",
       "      <th>customer_id</th>\n",
       "      <th>product_id</th>\n",
       "      <th>sales</th>\n",
       "      <th>quantity</th>\n",
       "      <th>discount</th>\n",
       "      <th>profit</th>\n",
       "      <th>postal_code</th>\n",
       "      <th>region_id</th>\n",
       "      <th>order_year</th>\n",
       "      <th>days_to_ship</th>\n",
       "    </tr>\n",
       "  </thead>\n",
       "  <tbody>\n",
       "    <tr>\n",
       "      <th>0</th>\n",
       "      <td>AE-2016-1308551</td>\n",
       "      <td>2016-09-28</td>\n",
       "      <td>2016-10-02</td>\n",
       "      <td>Second Class</td>\n",
       "      <td>PO-8865</td>\n",
       "      <td>OFF-FEL-10001405</td>\n",
       "      <td>82.67</td>\n",
       "      <td>2</td>\n",
       "      <td>0.3</td>\n",
       "      <td>0.3</td>\n",
       "      <td>unknown</td>\n",
       "      <td>9954.0</td>\n",
       "      <td>2016</td>\n",
       "      <td>4</td>\n",
       "    </tr>\n",
       "    <tr>\n",
       "      <th>1</th>\n",
       "      <td>AE-2016-1522857</td>\n",
       "      <td>2016-09-04</td>\n",
       "      <td>2016-09-09</td>\n",
       "      <td>Standard Class</td>\n",
       "      <td>PO-8865</td>\n",
       "      <td>TEC-EPS-10004171</td>\n",
       "      <td>78.41</td>\n",
       "      <td>6</td>\n",
       "      <td>0.5</td>\n",
       "      <td>0.5</td>\n",
       "      <td>unknown</td>\n",
       "      <td>4792.0</td>\n",
       "      <td>2016</td>\n",
       "      <td>5</td>\n",
       "    </tr>\n",
       "    <tr>\n",
       "      <th>2</th>\n",
       "      <td>AE-2016-184765</td>\n",
       "      <td>2016-10-03</td>\n",
       "      <td>2016-10-07</td>\n",
       "      <td>Second Class</td>\n",
       "      <td>PO-8865</td>\n",
       "      <td>OFF-FEL-10001405</td>\n",
       "      <td>82.67</td>\n",
       "      <td>2</td>\n",
       "      <td>0.3</td>\n",
       "      <td>0.3</td>\n",
       "      <td>unknown</td>\n",
       "      <td>19848.0</td>\n",
       "      <td>2016</td>\n",
       "      <td>4</td>\n",
       "    </tr>\n",
       "    <tr>\n",
       "      <th>3</th>\n",
       "      <td>AE-2016-1878215</td>\n",
       "      <td>2016-09-15</td>\n",
       "      <td>2016-09-17</td>\n",
       "      <td>Standard Class</td>\n",
       "      <td>PO-8865</td>\n",
       "      <td>TEC-EPS-10004171</td>\n",
       "      <td>78.41</td>\n",
       "      <td>6</td>\n",
       "      <td>0.5</td>\n",
       "      <td>0.5</td>\n",
       "      <td>unknown</td>\n",
       "      <td>1410.0</td>\n",
       "      <td>2016</td>\n",
       "      <td>2</td>\n",
       "    </tr>\n",
       "    <tr>\n",
       "      <th>4</th>\n",
       "      <td>AE-2016-218276</td>\n",
       "      <td>2016-10-09</td>\n",
       "      <td>2016-10-12</td>\n",
       "      <td>Standard Class</td>\n",
       "      <td>PO-8865</td>\n",
       "      <td>TEC-EPS-10004171</td>\n",
       "      <td>78.41</td>\n",
       "      <td>6</td>\n",
       "      <td>0.5</td>\n",
       "      <td>0.5</td>\n",
       "      <td>unknown</td>\n",
       "      <td>1826.0</td>\n",
       "      <td>2016</td>\n",
       "      <td>3</td>\n",
       "    </tr>\n",
       "  </tbody>\n",
       "</table>\n",
       "</div>"
      ],
      "text/plain": [
       "          order_id order_date  ship_date       ship_mode customer_id  \\\n",
       "0  AE-2016-1308551 2016-09-28 2016-10-02    Second Class     PO-8865   \n",
       "1  AE-2016-1522857 2016-09-04 2016-09-09  Standard Class     PO-8865   \n",
       "2   AE-2016-184765 2016-10-03 2016-10-07    Second Class     PO-8865   \n",
       "3  AE-2016-1878215 2016-09-15 2016-09-17  Standard Class     PO-8865   \n",
       "4   AE-2016-218276 2016-10-09 2016-10-12  Standard Class     PO-8865   \n",
       "\n",
       "         product_id  sales  quantity  discount  profit postal_code  region_id  \\\n",
       "0  OFF-FEL-10001405  82.67         2       0.3     0.3     unknown     9954.0   \n",
       "1  TEC-EPS-10004171  78.41         6       0.5     0.5     unknown     4792.0   \n",
       "2  OFF-FEL-10001405  82.67         2       0.3     0.3     unknown    19848.0   \n",
       "3  TEC-EPS-10004171  78.41         6       0.5     0.5     unknown     1410.0   \n",
       "4  TEC-EPS-10004171  78.41         6       0.5     0.5     unknown     1826.0   \n",
       "\n",
       "   order_year  days_to_ship  \n",
       "0        2016             4  \n",
       "1        2016             5  \n",
       "2        2016             4  \n",
       "3        2016             2  \n",
       "4        2016             3  "
      ]
     },
     "execution_count": 73,
     "metadata": {},
     "output_type": "execute_result"
    }
   ],
   "source": [
    "#check the new column \n",
    "new_store.head()"
   ]
  },
  {
   "cell_type": "code",
   "execution_count": 78,
   "metadata": {},
   "outputs": [
    {
     "data": {
      "text/plain": [
       "mean    2.572615\n",
       "min     0.000000\n",
       "max     8.000000\n",
       "Name: days_to_ship, dtype: float64"
      ]
     },
     "execution_count": 78,
     "metadata": {},
     "output_type": "execute_result"
    }
   ],
   "source": [
    "# the average speed of shipping\n",
    "new_store.days_to_ship.agg(['mean','min','max'])"
   ]
  },
  {
   "cell_type": "code",
   "execution_count": 83,
   "metadata": {},
   "outputs": [],
   "source": [
    "# create a function for shipping speed category and apply it to the data set\n",
    "def ship_speed (df,col):\n",
    "    speed=[]\n",
    "    for val in df[col]:\n",
    "        if val < 3:\n",
    "            speed.append('fast')\n",
    "        elif val == 3:\n",
    "            speed.append('average')\n",
    "        else:\n",
    "            speed.append('slow')      \n",
    "    return speed"
   ]
  },
  {
   "cell_type": "code",
   "execution_count": 84,
   "metadata": {},
   "outputs": [],
   "source": [
    "# create a new column to categorize the shipping speed \n",
    "new_store['ship_speed']=ship_speed(new_store,'days_to_ship')"
   ]
  },
  {
   "cell_type": "code",
   "execution_count": 147,
   "metadata": {
    "scrolled": true
   },
   "outputs": [
    {
     "data": {
      "text/plain": [
       "Text(0, 0.5, 'number of shipping')"
      ]
     },
     "execution_count": 147,
     "metadata": {},
     "output_type": "execute_result"
    },
    {
     "data": {
      "image/png": "[encoded data removed]",
      "text/plain": [
       "<Figure size 504x360 with 1 Axes>"
      ]
     },
     "metadata": {},
     "output_type": "display_data"
    }
   ],
   "source": [
    "# count values for each category \n",
    "new_store['ship_speed'].value_counts().plot(kind='pie',autopct='%1.0f%%',figsize =(7,5))\n",
    "plt.title ('shipping speed')\n",
    "plt.ylabel('percent number of shipping')"
   ]
  },
  {
   "cell_type": "code",
   "execution_count": 140,
   "metadata": {},
   "outputs": [
    {
     "data": {
      "text/plain": [
       "Text(0, 0.5, 'number of shipping')"
      ]
     },
     "execution_count": 140,
     "metadata": {},
     "output_type": "execute_result"
    },
    {
     "data": {
      "image/png": "[encoded data removed]",
      "text/plain": [
       "<Figure size 720x504 with 1 Axes>"
      ]
     },
     "metadata": {
      "needs_background": "light"
     },
     "output_type": "display_data"
    }
   ],
   "source": [
    "# visualize the number of shipping per shipping mode\n",
    "new_store['ship_mode'].value_counts().plot(kind= 'bar',figsize =(10,7))\n",
    "plt.title ('number of shipping per shipping mode')\n",
    "plt.xlabel('ship_mode')\n",
    "plt.ylabel('number of shipping')"
   ]
  },
  {
   "cell_type": "markdown",
   "metadata": {},
   "source": [
    "# thank you "
   ]
  }
 ],
 "metadata": {
  "kernelspec": {
   "display_name": "Python 3",
   "language": "python",
   "name": "python3"
  },
  "language_info": {
   "codemirror_mode": {
    "name": "ipython",
    "version": 3
   },
   "file_extension": ".py",
   "mimetype": "text/x-python",
   "name": "python",
   "nbconvert_exporter": "python",
   "pygments_lexer": "ipython3",
   "version": "3.8.5"
  }
 },
 "nbformat": 4,
 "nbformat_minor": 4
}
