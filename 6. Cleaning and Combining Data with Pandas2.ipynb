{
 "cells": [
  {
   "cell_type": "code",
   "execution_count": 1,
   "metadata": {},
   "outputs": [],
   "source": [
    "import pandas as pd\n",
    "import numpy as np\n",
    "import matplotlib as plt"
   ]
  },
  {
   "cell_type": "code",
   "execution_count": 2,
   "metadata": {},
   "outputs": [],
   "source": [
    "# 6.1 Identifying Missing Data\n",
    "# We will use the orders table from Super Store for these tasks\n",
    "orders = pd.read_csv('./datasets/orders.csv')\n",
    "\n",
    "\n",
    "# A. Start with some exploratory analysis methods to inspect the data\n"
   ]
  },
  {
   "cell_type": "code",
   "execution_count": 3,
   "metadata": {},
   "outputs": [
    {
     "name": "stdout",
     "output_type": "stream",
     "text": [
      "<class 'pandas.core.frame.DataFrame'>\n",
      "RangeIndex: 999991 entries, 0 to 999990\n",
      "Data columns (total 12 columns):\n",
      " #   Column       Non-Null Count   Dtype  \n",
      "---  ------       --------------   -----  \n",
      " 0   order_id     999991 non-null  object \n",
      " 1   order_date   999991 non-null  object \n",
      " 2   ship_date    999991 non-null  object \n",
      " 3   ship_mode    999991 non-null  object \n",
      " 4   customer_id  999991 non-null  object \n",
      " 5   product_id   999991 non-null  object \n",
      " 6   sales        999991 non-null  float64\n",
      " 7   quantity     999991 non-null  int64  \n",
      " 8   discount     999991 non-null  float64\n",
      " 9   profit       999991 non-null  float64\n",
      " 10  postal_code  192888 non-null  float64\n",
      " 11  region_id    999795 non-null  float64\n",
      "dtypes: float64(5), int64(1), object(6)\n",
      "memory usage: 91.6+ MB\n"
     ]
    }
   ],
   "source": [
    "orders.info ()\n",
    "# معلومات الجدول "
   ]
  },
  {
   "cell_type": "code",
   "execution_count": 4,
   "metadata": {},
   "outputs": [
    {
     "data": {
      "text/html": [
       "<div>\n",
       "<style scoped>\n",
       "    .dataframe tbody tr th:only-of-type {\n",
       "        vertical-align: middle;\n",
       "    }\n",
       "\n",
       "    .dataframe tbody tr th {\n",
       "        vertical-align: top;\n",
       "    }\n",
       "\n",
       "    .dataframe thead th {\n",
       "        text-align: right;\n",
       "    }\n",
       "</style>\n",
       "<table border=\"1\" class=\"dataframe\">\n",
       "  <thead>\n",
       "    <tr style=\"text-align: right;\">\n",
       "      <th></th>\n",
       "      <th>order_id</th>\n",
       "      <th>order_date</th>\n",
       "      <th>ship_date</th>\n",
       "      <th>ship_mode</th>\n",
       "      <th>customer_id</th>\n",
       "      <th>product_id</th>\n",
       "      <th>sales</th>\n",
       "      <th>quantity</th>\n",
       "      <th>discount</th>\n",
       "      <th>profit</th>\n",
       "      <th>postal_code</th>\n",
       "      <th>region_id</th>\n",
       "    </tr>\n",
       "  </thead>\n",
       "  <tbody>\n",
       "    <tr>\n",
       "      <th>0</th>\n",
       "      <td>False</td>\n",
       "      <td>False</td>\n",
       "      <td>False</td>\n",
       "      <td>False</td>\n",
       "      <td>False</td>\n",
       "      <td>False</td>\n",
       "      <td>False</td>\n",
       "      <td>False</td>\n",
       "      <td>False</td>\n",
       "      <td>False</td>\n",
       "      <td>True</td>\n",
       "      <td>False</td>\n",
       "    </tr>\n",
       "    <tr>\n",
       "      <th>1</th>\n",
       "      <td>False</td>\n",
       "      <td>False</td>\n",
       "      <td>False</td>\n",
       "      <td>False</td>\n",
       "      <td>False</td>\n",
       "      <td>False</td>\n",
       "      <td>False</td>\n",
       "      <td>False</td>\n",
       "      <td>False</td>\n",
       "      <td>False</td>\n",
       "      <td>True</td>\n",
       "      <td>False</td>\n",
       "    </tr>\n",
       "    <tr>\n",
       "      <th>2</th>\n",
       "      <td>False</td>\n",
       "      <td>False</td>\n",
       "      <td>False</td>\n",
       "      <td>False</td>\n",
       "      <td>False</td>\n",
       "      <td>False</td>\n",
       "      <td>False</td>\n",
       "      <td>False</td>\n",
       "      <td>False</td>\n",
       "      <td>False</td>\n",
       "      <td>True</td>\n",
       "      <td>False</td>\n",
       "    </tr>\n",
       "    <tr>\n",
       "      <th>3</th>\n",
       "      <td>False</td>\n",
       "      <td>False</td>\n",
       "      <td>False</td>\n",
       "      <td>False</td>\n",
       "      <td>False</td>\n",
       "      <td>False</td>\n",
       "      <td>False</td>\n",
       "      <td>False</td>\n",
       "      <td>False</td>\n",
       "      <td>False</td>\n",
       "      <td>True</td>\n",
       "      <td>False</td>\n",
       "    </tr>\n",
       "    <tr>\n",
       "      <th>4</th>\n",
       "      <td>False</td>\n",
       "      <td>False</td>\n",
       "      <td>False</td>\n",
       "      <td>False</td>\n",
       "      <td>False</td>\n",
       "      <td>False</td>\n",
       "      <td>False</td>\n",
       "      <td>False</td>\n",
       "      <td>False</td>\n",
       "      <td>False</td>\n",
       "      <td>True</td>\n",
       "      <td>False</td>\n",
       "    </tr>\n",
       "    <tr>\n",
       "      <th>...</th>\n",
       "      <td>...</td>\n",
       "      <td>...</td>\n",
       "      <td>...</td>\n",
       "      <td>...</td>\n",
       "      <td>...</td>\n",
       "      <td>...</td>\n",
       "      <td>...</td>\n",
       "      <td>...</td>\n",
       "      <td>...</td>\n",
       "      <td>...</td>\n",
       "      <td>...</td>\n",
       "      <td>...</td>\n",
       "    </tr>\n",
       "    <tr>\n",
       "      <th>999986</th>\n",
       "      <td>False</td>\n",
       "      <td>False</td>\n",
       "      <td>False</td>\n",
       "      <td>False</td>\n",
       "      <td>False</td>\n",
       "      <td>False</td>\n",
       "      <td>False</td>\n",
       "      <td>False</td>\n",
       "      <td>False</td>\n",
       "      <td>False</td>\n",
       "      <td>True</td>\n",
       "      <td>False</td>\n",
       "    </tr>\n",
       "    <tr>\n",
       "      <th>999987</th>\n",
       "      <td>False</td>\n",
       "      <td>False</td>\n",
       "      <td>False</td>\n",
       "      <td>False</td>\n",
       "      <td>False</td>\n",
       "      <td>False</td>\n",
       "      <td>False</td>\n",
       "      <td>False</td>\n",
       "      <td>False</td>\n",
       "      <td>False</td>\n",
       "      <td>True</td>\n",
       "      <td>False</td>\n",
       "    </tr>\n",
       "    <tr>\n",
       "      <th>999988</th>\n",
       "      <td>False</td>\n",
       "      <td>False</td>\n",
       "      <td>False</td>\n",
       "      <td>False</td>\n",
       "      <td>False</td>\n",
       "      <td>False</td>\n",
       "      <td>False</td>\n",
       "      <td>False</td>\n",
       "      <td>False</td>\n",
       "      <td>False</td>\n",
       "      <td>True</td>\n",
       "      <td>False</td>\n",
       "    </tr>\n",
       "    <tr>\n",
       "      <th>999989</th>\n",
       "      <td>False</td>\n",
       "      <td>False</td>\n",
       "      <td>False</td>\n",
       "      <td>False</td>\n",
       "      <td>False</td>\n",
       "      <td>False</td>\n",
       "      <td>False</td>\n",
       "      <td>False</td>\n",
       "      <td>False</td>\n",
       "      <td>False</td>\n",
       "      <td>True</td>\n",
       "      <td>False</td>\n",
       "    </tr>\n",
       "    <tr>\n",
       "      <th>999990</th>\n",
       "      <td>False</td>\n",
       "      <td>False</td>\n",
       "      <td>False</td>\n",
       "      <td>False</td>\n",
       "      <td>False</td>\n",
       "      <td>False</td>\n",
       "      <td>False</td>\n",
       "      <td>False</td>\n",
       "      <td>False</td>\n",
       "      <td>False</td>\n",
       "      <td>False</td>\n",
       "      <td>False</td>\n",
       "    </tr>\n",
       "  </tbody>\n",
       "</table>\n",
       "<p>999991 rows × 12 columns</p>\n",
       "</div>"
      ],
      "text/plain": [
       "        order_id  order_date  ship_date  ship_mode  customer_id  product_id  \\\n",
       "0          False       False      False      False        False       False   \n",
       "1          False       False      False      False        False       False   \n",
       "2          False       False      False      False        False       False   \n",
       "3          False       False      False      False        False       False   \n",
       "4          False       False      False      False        False       False   \n",
       "...          ...         ...        ...        ...          ...         ...   \n",
       "999986     False       False      False      False        False       False   \n",
       "999987     False       False      False      False        False       False   \n",
       "999988     False       False      False      False        False       False   \n",
       "999989     False       False      False      False        False       False   \n",
       "999990     False       False      False      False        False       False   \n",
       "\n",
       "        sales  quantity  discount  profit  postal_code  region_id  \n",
       "0       False     False     False   False         True      False  \n",
       "1       False     False     False   False         True      False  \n",
       "2       False     False     False   False         True      False  \n",
       "3       False     False     False   False         True      False  \n",
       "4       False     False     False   False         True      False  \n",
       "...       ...       ...       ...     ...          ...        ...  \n",
       "999986  False     False     False   False         True      False  \n",
       "999987  False     False     False   False         True      False  \n",
       "999988  False     False     False   False         True      False  \n",
       "999989  False     False     False   False         True      False  \n",
       "999990  False     False     False   False        False      False  \n",
       "\n",
       "[999991 rows x 12 columns]"
      ]
     },
     "execution_count": 4,
     "metadata": {},
     "output_type": "execute_result"
    }
   ],
   "source": [
    "orders.isnull()\n",
    "#هنا نشوف البيانات المفقودة"
   ]
  },
  {
   "cell_type": "code",
   "execution_count": 5,
   "metadata": {},
   "outputs": [],
   "source": [
    "# B. Which column has the most missing data? Sort the columns by sum of null values\n"
   ]
  },
  {
   "cell_type": "code",
   "execution_count": 6,
   "metadata": {},
   "outputs": [
    {
     "data": {
      "text/plain": [
       "order_id            0\n",
       "order_date          0\n",
       "ship_date           0\n",
       "ship_mode           0\n",
       "customer_id         0\n",
       "product_id          0\n",
       "sales               0\n",
       "quantity            0\n",
       "discount            0\n",
       "profit              0\n",
       "postal_code    807103\n",
       "region_id         196\n",
       "dtype: int64"
      ]
     },
     "execution_count": 6,
     "metadata": {},
     "output_type": "execute_result"
    }
   ],
   "source": [
    "orders.isnull().sum()\n",
    "# هنا نجمع البيانات المفقودة\n",
    "# ونقدر نسويها على عمود واحد"
   ]
  },
  {
   "cell_type": "code",
   "execution_count": 7,
   "metadata": {},
   "outputs": [],
   "source": [
    "orders['postal_code']= orders['postal_code'].dropna(inplace = True)\n",
    "#هنا يبدل العمود بعمود تاني  ونحذف النل و نبدلها ب نون \n",
    "#عشان  نقدر نحذفها "
   ]
  },
  {
   "cell_type": "code",
   "execution_count": 8,
   "metadata": {
    "scrolled": true
   },
   "outputs": [
    {
     "data": {
      "text/plain": [
       "order_id            0\n",
       "order_date          0\n",
       "ship_date           0\n",
       "ship_mode           0\n",
       "customer_id         0\n",
       "product_id          0\n",
       "sales               0\n",
       "quantity            0\n",
       "discount            0\n",
       "profit              0\n",
       "postal_code    999991\n",
       "region_id         196\n",
       "dtype: int64"
      ]
     },
     "execution_count": 8,
     "metadata": {},
     "output_type": "execute_result"
    }
   ],
   "source": [
    "orders.isnull().sum()"
   ]
  },
  {
   "cell_type": "code",
   "execution_count": 8,
   "metadata": {},
   "outputs": [],
   "source": [
    "# C. Looks like postal_code is our biggest problem, along with region_id\n",
    "# Use a combination of filtering, isnull, and sum to count how many rows are missing both columns\n"
   ]
  },
  {
   "cell_type": "code",
   "execution_count": 12,
   "metadata": {},
   "outputs": [
    {
     "data": {
      "text/plain": [
       "postal_code    807103\n",
       "region_id         196\n",
       "dtype: int64"
      ]
     },
     "execution_count": 12,
     "metadata": {},
     "output_type": "execute_result"
    }
   ],
   "source": [
    "orders[['postal_code','region_id']].isnull().sum()"
   ]
  },
  {
   "cell_type": "code",
   "execution_count": 52,
   "metadata": {},
   "outputs": [
    {
     "data": {
      "text/plain": [
       "196"
      ]
     },
     "execution_count": 52,
     "metadata": {},
     "output_type": "execute_result"
    }
   ],
   "source": [
    "orders[orders['postal_code'].isnull()]['region_id'].isnull().sum()\n",
    "#هنا جمع المفقودة في كود وحاد بحيث يحسب بس الي فيها معلومات مفقودة في العمودين "
   ]
  },
  {
   "cell_type": "code",
   "execution_count": 13,
   "metadata": {},
   "outputs": [
    {
     "data": {
      "text/plain": [
       "807103"
      ]
     },
     "execution_count": 13,
     "metadata": {},
     "output_type": "execute_result"
    }
   ],
   "source": [
    "orders.postal_code.isnull().sum()"
   ]
  },
  {
   "cell_type": "code",
   "execution_count": null,
   "metadata": {},
   "outputs": [],
   "source": [
    "# D. Let's drop the region_id nulls from the dataframe before proceeding\n"
   ]
  },
  {
   "cell_type": "code",
   "execution_count": 43,
   "metadata": {},
   "outputs": [],
   "source": [
    "orders_new= orders.dropna(subset=['region_id'])\n",
    "# سوينا داتا جديدة عشان نحفظ فيها التغيرات الي سويناهاا \n",
    "# ودي هي الطريقة الافضل من الاولى عشان ما نغير في الداتا لااصلية "
   ]
  },
  {
   "cell_type": "code",
   "execution_count": 40,
   "metadata": {},
   "outputs": [
    {
     "name": "stdout",
     "output_type": "stream",
     "text": [
      "<class 'pandas.core.frame.DataFrame'>\n",
      "RangeIndex: 999991 entries, 0 to 999990\n",
      "Data columns (total 12 columns):\n",
      " #   Column       Non-Null Count   Dtype  \n",
      "---  ------       --------------   -----  \n",
      " 0   order_id     999991 non-null  object \n",
      " 1   order_date   999991 non-null  object \n",
      " 2   ship_date    999991 non-null  object \n",
      " 3   ship_mode    999991 non-null  object \n",
      " 4   customer_id  999991 non-null  object \n",
      " 5   product_id   999991 non-null  object \n",
      " 6   sales        999991 non-null  float64\n",
      " 7   quantity     999991 non-null  int64  \n",
      " 8   discount     999991 non-null  float64\n",
      " 9   profit       999991 non-null  float64\n",
      " 10  postal_code  192888 non-null  float64\n",
      " 11  region_id    999795 non-null  float64\n",
      "dtypes: float64(5), int64(1), object(6)\n",
      "memory usage: 91.6+ MB\n"
     ]
    }
   ],
   "source": [
    "orders.info()\n",
    "# هنا البيانات القديمة  و زي ما نشوف البوستال كود سار مافيه  نل لانه حولناه الى نن "
   ]
  },
  {
   "cell_type": "code",
   "execution_count": 16,
   "metadata": {},
   "outputs": [
    {
     "data": {
      "text/plain": [
       "0"
      ]
     },
     "execution_count": 16,
     "metadata": {},
     "output_type": "execute_result"
    }
   ],
   "source": [
    "orders['region_id'].dropna().isnull().sum()\n",
    "# هنا بنعد الي مافيها بيانات"
   ]
  },
  {
   "cell_type": "code",
   "execution_count": 53,
   "metadata": {},
   "outputs": [
    {
     "name": "stdout",
     "output_type": "stream",
     "text": [
      "<class 'pandas.core.frame.DataFrame'>\n",
      "Int64Index: 999795 entries, 0 to 999990\n",
      "Data columns (total 12 columns):\n",
      " #   Column       Non-Null Count   Dtype  \n",
      "---  ------       --------------   -----  \n",
      " 0   order_id     999795 non-null  object \n",
      " 1   order_date   999795 non-null  object \n",
      " 2   ship_date    999795 non-null  object \n",
      " 3   ship_mode    999795 non-null  object \n",
      " 4   customer_id  999795 non-null  object \n",
      " 5   product_id   999795 non-null  object \n",
      " 6   sales        999795 non-null  float64\n",
      " 7   quantity     999795 non-null  int64  \n",
      " 8   discount     999795 non-null  float64\n",
      " 9   profit       999795 non-null  float64\n",
      " 10  postal_code  192888 non-null  float64\n",
      " 11  region_id    999795 non-null  float64\n",
      "dtypes: float64(5), int64(1), object(6)\n",
      "memory usage: 99.2+ MB\n"
     ]
    }
   ],
   "source": [
    "orders_new.info()"
   ]
  },
  {
   "cell_type": "code",
   "execution_count": 47,
   "metadata": {},
   "outputs": [
    {
     "data": {
      "text/plain": [
       "order_id            0\n",
       "order_date          0\n",
       "ship_date           0\n",
       "ship_mode           0\n",
       "customer_id         0\n",
       "product_id          0\n",
       "sales               0\n",
       "quantity            0\n",
       "discount            0\n",
       "profit              0\n",
       "postal_code    806907\n",
       "region_id           0\n",
       "dtype: int64"
      ]
     },
     "execution_count": 47,
     "metadata": {},
     "output_type": "execute_result"
    }
   ],
   "source": [
    "orders_new.isnull().sum()\n",
    "# هنا البيانات الجديدة  بعد ما حذفنا الصفوف الي كان فيها نل اول "
   ]
  },
  {
   "cell_type": "code",
   "execution_count": 49,
   "metadata": {},
   "outputs": [],
   "source": [
    "# E. It's the dream scenario! The IT team confirms all missing postal_code values should be 10001.0\n",
    "new_orders_po = orders.fillna('10001.0')"
   ]
  },
  {
   "cell_type": "code",
   "execution_count": 50,
   "metadata": {},
   "outputs": [
    {
     "data": {
      "text/plain": [
       "order_id       0\n",
       "order_date     0\n",
       "ship_date      0\n",
       "ship_mode      0\n",
       "customer_id    0\n",
       "product_id     0\n",
       "sales          0\n",
       "quantity       0\n",
       "discount       0\n",
       "profit         0\n",
       "postal_code    0\n",
       "region_id      0\n",
       "dtype: int64"
      ]
     },
     "execution_count": 50,
     "metadata": {},
     "output_type": "execute_result"
    }
   ],
   "source": [
    "new_orders_po.isnull().sum()\n",
    "# هنا البيانات الجديدة  بعد ما حذفنا الصفوف الي كان فيها نل اول "
   ]
  },
  {
   "cell_type": "code",
   "execution_count": 51,
   "metadata": {},
   "outputs": [
    {
     "data": {
      "text/plain": [
       "0          9954\n",
       "1          4792\n",
       "2         19848\n",
       "3          1410\n",
       "4          1826\n",
       "          ...  \n",
       "999986     3210\n",
       "999987     3539\n",
       "999988     3855\n",
       "999989      783\n",
       "999990     1488\n",
       "Name: region_id, Length: 999991, dtype: object"
      ]
     },
     "execution_count": 51,
     "metadata": {},
     "output_type": "execute_result"
    }
   ],
   "source": [
    "orders['region_id'].fillna('unknown')\n",
    "# هنا نستبدل البيانات المفقودة بكلمة "
   ]
  },
  {
   "cell_type": "code",
   "execution_count": 52,
   "metadata": {},
   "outputs": [
    {
     "data": {
      "text/html": [
       "<div>\n",
       "<style scoped>\n",
       "    .dataframe tbody tr th:only-of-type {\n",
       "        vertical-align: middle;\n",
       "    }\n",
       "\n",
       "    .dataframe tbody tr th {\n",
       "        vertical-align: top;\n",
       "    }\n",
       "\n",
       "    .dataframe thead th {\n",
       "        text-align: right;\n",
       "    }\n",
       "</style>\n",
       "<table border=\"1\" class=\"dataframe\">\n",
       "  <thead>\n",
       "    <tr style=\"text-align: right;\">\n",
       "      <th></th>\n",
       "      <th>order_id</th>\n",
       "      <th>order_date</th>\n",
       "      <th>ship_date</th>\n",
       "      <th>ship_mode</th>\n",
       "      <th>customer_id</th>\n",
       "      <th>product_id</th>\n",
       "      <th>sales</th>\n",
       "      <th>quantity</th>\n",
       "      <th>discount</th>\n",
       "      <th>profit</th>\n",
       "      <th>postal_code</th>\n",
       "      <th>region_id</th>\n",
       "      <th>new_postal_code</th>\n",
       "    </tr>\n",
       "  </thead>\n",
       "  <tbody>\n",
       "    <tr>\n",
       "      <th>0</th>\n",
       "      <td>AE-2016-1308551</td>\n",
       "      <td>2016-09-28</td>\n",
       "      <td>2016-10-02</td>\n",
       "      <td>Second Class</td>\n",
       "      <td>PO-8865</td>\n",
       "      <td>OFF-FEL-10001405</td>\n",
       "      <td>82.67</td>\n",
       "      <td>2</td>\n",
       "      <td>0.30</td>\n",
       "      <td>0.30</td>\n",
       "      <td>0</td>\n",
       "      <td>9954.0</td>\n",
       "      <td>NaN</td>\n",
       "    </tr>\n",
       "    <tr>\n",
       "      <th>1</th>\n",
       "      <td>AE-2016-1522857</td>\n",
       "      <td>2016-09-04</td>\n",
       "      <td>2016-09-09</td>\n",
       "      <td>Standard Class</td>\n",
       "      <td>PO-8865</td>\n",
       "      <td>TEC-EPS-10004171</td>\n",
       "      <td>78.41</td>\n",
       "      <td>6</td>\n",
       "      <td>0.50</td>\n",
       "      <td>0.50</td>\n",
       "      <td>0</td>\n",
       "      <td>4792.0</td>\n",
       "      <td>NaN</td>\n",
       "    </tr>\n",
       "    <tr>\n",
       "      <th>2</th>\n",
       "      <td>AE-2016-184765</td>\n",
       "      <td>2016-10-03</td>\n",
       "      <td>2016-10-07</td>\n",
       "      <td>Second Class</td>\n",
       "      <td>PO-8865</td>\n",
       "      <td>OFF-FEL-10001405</td>\n",
       "      <td>82.67</td>\n",
       "      <td>2</td>\n",
       "      <td>0.30</td>\n",
       "      <td>0.30</td>\n",
       "      <td>0</td>\n",
       "      <td>19848.0</td>\n",
       "      <td>NaN</td>\n",
       "    </tr>\n",
       "    <tr>\n",
       "      <th>3</th>\n",
       "      <td>AE-2016-1878215</td>\n",
       "      <td>2016-09-15</td>\n",
       "      <td>2016-09-17</td>\n",
       "      <td>Standard Class</td>\n",
       "      <td>PO-8865</td>\n",
       "      <td>TEC-EPS-10004171</td>\n",
       "      <td>78.41</td>\n",
       "      <td>6</td>\n",
       "      <td>0.50</td>\n",
       "      <td>0.50</td>\n",
       "      <td>0</td>\n",
       "      <td>1410.0</td>\n",
       "      <td>NaN</td>\n",
       "    </tr>\n",
       "    <tr>\n",
       "      <th>4</th>\n",
       "      <td>AE-2016-218276</td>\n",
       "      <td>2016-10-09</td>\n",
       "      <td>2016-10-12</td>\n",
       "      <td>Standard Class</td>\n",
       "      <td>PO-8865</td>\n",
       "      <td>TEC-EPS-10004171</td>\n",
       "      <td>78.41</td>\n",
       "      <td>6</td>\n",
       "      <td>0.50</td>\n",
       "      <td>0.50</td>\n",
       "      <td>0</td>\n",
       "      <td>1826.0</td>\n",
       "      <td>NaN</td>\n",
       "    </tr>\n",
       "    <tr>\n",
       "      <th>...</th>\n",
       "      <td>...</td>\n",
       "      <td>...</td>\n",
       "      <td>...</td>\n",
       "      <td>...</td>\n",
       "      <td>...</td>\n",
       "      <td>...</td>\n",
       "      <td>...</td>\n",
       "      <td>...</td>\n",
       "      <td>...</td>\n",
       "      <td>...</td>\n",
       "      <td>...</td>\n",
       "      <td>...</td>\n",
       "      <td>...</td>\n",
       "    </tr>\n",
       "    <tr>\n",
       "      <th>999986</th>\n",
       "      <td>ZI-2020-495856</td>\n",
       "      <td>2020-01-04</td>\n",
       "      <td>2020-01-09</td>\n",
       "      <td>Second Class</td>\n",
       "      <td>JC-5775</td>\n",
       "      <td>OFF-AVE-10000543</td>\n",
       "      <td>1.16</td>\n",
       "      <td>1</td>\n",
       "      <td>0.17</td>\n",
       "      <td>0.09</td>\n",
       "      <td>0</td>\n",
       "      <td>3210.0</td>\n",
       "      <td>NaN</td>\n",
       "    </tr>\n",
       "    <tr>\n",
       "      <th>999987</th>\n",
       "      <td>ZI-2020-5409624</td>\n",
       "      <td>2020-01-13</td>\n",
       "      <td>2020-01-18</td>\n",
       "      <td>Second Class</td>\n",
       "      <td>JC-5775</td>\n",
       "      <td>OFF-AVE-10000543</td>\n",
       "      <td>1.16</td>\n",
       "      <td>1</td>\n",
       "      <td>0.17</td>\n",
       "      <td>0.09</td>\n",
       "      <td>0</td>\n",
       "      <td>3539.0</td>\n",
       "      <td>NaN</td>\n",
       "    </tr>\n",
       "    <tr>\n",
       "      <th>999988</th>\n",
       "      <td>ZI-2020-5478741</td>\n",
       "      <td>2020-01-10</td>\n",
       "      <td>2020-01-10</td>\n",
       "      <td>Standard Class</td>\n",
       "      <td>JC-5775</td>\n",
       "      <td>TEC-KON-10003116</td>\n",
       "      <td>71.64</td>\n",
       "      <td>2</td>\n",
       "      <td>0.32</td>\n",
       "      <td>0.23</td>\n",
       "      <td>0</td>\n",
       "      <td>3855.0</td>\n",
       "      <td>NaN</td>\n",
       "    </tr>\n",
       "    <tr>\n",
       "      <th>999989</th>\n",
       "      <td>ZI-2020-5986855</td>\n",
       "      <td>2020-01-08</td>\n",
       "      <td>2020-01-11</td>\n",
       "      <td>Standard Class</td>\n",
       "      <td>JC-5775</td>\n",
       "      <td>TEC-KON-10003116</td>\n",
       "      <td>71.64</td>\n",
       "      <td>2</td>\n",
       "      <td>0.32</td>\n",
       "      <td>0.23</td>\n",
       "      <td>0</td>\n",
       "      <td>783.0</td>\n",
       "      <td>NaN</td>\n",
       "    </tr>\n",
       "    <tr>\n",
       "      <th>999990</th>\n",
       "      <td>ZI-2020-863102</td>\n",
       "      <td>2020-01-22</td>\n",
       "      <td>2020-01-27</td>\n",
       "      <td>Standard Class</td>\n",
       "      <td>JM-5250</td>\n",
       "      <td>FUR-SAF-10002314</td>\n",
       "      <td>49.65</td>\n",
       "      <td>1</td>\n",
       "      <td>0.22</td>\n",
       "      <td>0.14</td>\n",
       "      <td>0</td>\n",
       "      <td>1488.0</td>\n",
       "      <td>77095.0</td>\n",
       "    </tr>\n",
       "  </tbody>\n",
       "</table>\n",
       "<p>999991 rows × 13 columns</p>\n",
       "</div>"
      ],
      "text/plain": [
       "               order_id  order_date   ship_date       ship_mode customer_id  \\\n",
       "0       AE-2016-1308551  2016-09-28  2016-10-02    Second Class     PO-8865   \n",
       "1       AE-2016-1522857  2016-09-04  2016-09-09  Standard Class     PO-8865   \n",
       "2        AE-2016-184765  2016-10-03  2016-10-07    Second Class     PO-8865   \n",
       "3       AE-2016-1878215  2016-09-15  2016-09-17  Standard Class     PO-8865   \n",
       "4        AE-2016-218276  2016-10-09  2016-10-12  Standard Class     PO-8865   \n",
       "...                 ...         ...         ...             ...         ...   \n",
       "999986   ZI-2020-495856  2020-01-04  2020-01-09    Second Class     JC-5775   \n",
       "999987  ZI-2020-5409624  2020-01-13  2020-01-18    Second Class     JC-5775   \n",
       "999988  ZI-2020-5478741  2020-01-10  2020-01-10  Standard Class     JC-5775   \n",
       "999989  ZI-2020-5986855  2020-01-08  2020-01-11  Standard Class     JC-5775   \n",
       "999990   ZI-2020-863102  2020-01-22  2020-01-27  Standard Class     JM-5250   \n",
       "\n",
       "              product_id  sales  quantity  discount  profit  postal_code  \\\n",
       "0       OFF-FEL-10001405  82.67         2      0.30    0.30            0   \n",
       "1       TEC-EPS-10004171  78.41         6      0.50    0.50            0   \n",
       "2       OFF-FEL-10001405  82.67         2      0.30    0.30            0   \n",
       "3       TEC-EPS-10004171  78.41         6      0.50    0.50            0   \n",
       "4       TEC-EPS-10004171  78.41         6      0.50    0.50            0   \n",
       "...                  ...    ...       ...       ...     ...          ...   \n",
       "999986  OFF-AVE-10000543   1.16         1      0.17    0.09            0   \n",
       "999987  OFF-AVE-10000543   1.16         1      0.17    0.09            0   \n",
       "999988  TEC-KON-10003116  71.64         2      0.32    0.23            0   \n",
       "999989  TEC-KON-10003116  71.64         2      0.32    0.23            0   \n",
       "999990  FUR-SAF-10002314  49.65         1      0.22    0.14            0   \n",
       "\n",
       "        region_id  new_postal_code  \n",
       "0          9954.0              NaN  \n",
       "1          4792.0              NaN  \n",
       "2         19848.0              NaN  \n",
       "3          1410.0              NaN  \n",
       "4          1826.0              NaN  \n",
       "...           ...              ...  \n",
       "999986     3210.0              NaN  \n",
       "999987     3539.0              NaN  \n",
       "999988     3855.0              NaN  \n",
       "999989      783.0              NaN  \n",
       "999990     1488.0          77095.0  \n",
       "\n",
       "[999991 rows x 13 columns]"
      ]
     },
     "execution_count": 52,
     "metadata": {},
     "output_type": "execute_result"
    }
   ],
   "source": [
    "orders.fillna({'postal_code': 0})\n",
    "# طريقة تانية نستبدل فيها البيانات المفقودة و كلهم صح  \n",
    "#دي الطريقة نسوي طريقة الدكشنري "
   ]
  },
  {
   "cell_type": "code",
   "execution_count": 56,
   "metadata": {},
   "outputs": [
    {
     "data": {
      "text/plain": [
       "0          9954.0\n",
       "1          4792.0\n",
       "2         19848.0\n",
       "3          1410.0\n",
       "4          1826.0\n",
       "           ...   \n",
       "999986     3210.0\n",
       "999987     3539.0\n",
       "999988     3855.0\n",
       "999989      783.0\n",
       "999990     1488.0\n",
       "Name: region_id, Length: 999991, dtype: float64"
      ]
     },
     "execution_count": 56,
     "metadata": {},
     "output_type": "execute_result"
    }
   ],
   "source": [
    "orders['region_id'].fillna(orders.region_id.median())"
   ]
  },
  {
   "cell_type": "code",
   "execution_count": 54,
   "metadata": {},
   "outputs": [
    {
     "data": {
      "text/plain": [
       "6370.559012597582"
      ]
     },
     "execution_count": 54,
     "metadata": {},
     "output_type": "execute_result"
    }
   ],
   "source": [
    "orders.region_id.mean()\n",
    "#نشوف المين والميدان عشان نقرر مين الي نحطه \n",
    "#اذا المين كبير استخدمي الميدين لانه مايتأثر بالقيم المتطرفه مثل المين"
   ]
  },
  {
   "cell_type": "code",
   "execution_count": 55,
   "metadata": {},
   "outputs": [
    {
     "data": {
      "text/plain": [
       "3688.0"
      ]
     },
     "execution_count": 55,
     "metadata": {},
     "output_type": "execute_result"
    }
   ],
   "source": [
    "orders.region_id.median()"
   ]
  },
  {
   "cell_type": "code",
   "execution_count": null,
   "metadata": {},
   "outputs": [],
   "source": [
    "orders['ship_mode'].replace('second class' , 'secondclass')\n",
    "# هنا غيرنا المدخلات من اسم كامل الى اختصار "
   ]
  },
  {
   "cell_type": "code",
   "execution_count": 60,
   "metadata": {},
   "outputs": [],
   "source": [
    "orders['days_to_ship']= pd.to_datetime(orders.ship_date) - (orders.order_date)\n",
    "# سوينا عمود جديد يحسب لنا الاياام من الطلب الى الشحن "
   ]
  },
  {
   "cell_type": "code",
   "execution_count": 62,
   "metadata": {},
   "outputs": [],
   "source": [
    "orders['order_date']= pd.to_datetime(orders.order_date)\n",
    "# حولنا التاريخ من كلام الى صيغة تاريخ "
   ]
  },
  {
   "cell_type": "code",
   "execution_count": 63,
   "metadata": {},
   "outputs": [
    {
     "data": {
      "text/plain": [
       "0          9\n",
       "1          9\n",
       "2         10\n",
       "3          9\n",
       "4         10\n",
       "          ..\n",
       "999986     1\n",
       "999987     1\n",
       "999988     1\n",
       "999989     1\n",
       "999990     1\n",
       "Name: order_date, Length: 999991, dtype: int64"
      ]
     },
     "execution_count": 63,
     "metadata": {},
     "output_type": "execute_result"
    }
   ],
   "source": [
    "orders.order_date.dt.month \n",
    "# هنا نستخرج الشهر \n",
    "ولا"
   ]
  },
  {
   "cell_type": "code",
   "execution_count": 65,
   "metadata": {},
   "outputs": [],
   "source": [
    "orders['day'] = orders.order_date.dt.day\n",
    "# هنا نستخرج اليوم ونحطه في عمود لحاله "
   ]
  },
  {
   "cell_type": "code",
   "execution_count": 66,
   "metadata": {},
   "outputs": [],
   "source": [
    "# في حال نبغى نغير في العمود كامل ح نكتب فنكشن \n",
    "def remove_spaces(str):\n",
    "    return str.replace(\" \", \"\")\n",
    "# بعد ما كتبنا الفنكشن نسوي استبدال العمود القديم بالعمود الجديد\n",
    "orders['ship_mode'] = orders['ship_mode'].apply(remove_spaces)\n"
   ]
  },
  {
   "cell_type": "code",
   "execution_count": 67,
   "metadata": {},
   "outputs": [
    {
     "data": {
      "text/html": [
       "<div>\n",
       "<style scoped>\n",
       "    .dataframe tbody tr th:only-of-type {\n",
       "        vertical-align: middle;\n",
       "    }\n",
       "\n",
       "    .dataframe tbody tr th {\n",
       "        vertical-align: top;\n",
       "    }\n",
       "\n",
       "    .dataframe thead th {\n",
       "        text-align: right;\n",
       "    }\n",
       "</style>\n",
       "<table border=\"1\" class=\"dataframe\">\n",
       "  <thead>\n",
       "    <tr style=\"text-align: right;\">\n",
       "      <th></th>\n",
       "      <th>order_id</th>\n",
       "      <th>order_date</th>\n",
       "      <th>ship_date</th>\n",
       "      <th>ship_mode</th>\n",
       "      <th>customer_id</th>\n",
       "      <th>product_id</th>\n",
       "      <th>sales</th>\n",
       "      <th>quantity</th>\n",
       "      <th>discount</th>\n",
       "      <th>profit</th>\n",
       "      <th>postal_code</th>\n",
       "      <th>region_id</th>\n",
       "      <th>days_to_ship</th>\n",
       "      <th>day</th>\n",
       "    </tr>\n",
       "  </thead>\n",
       "  <tbody>\n",
       "    <tr>\n",
       "      <th>0</th>\n",
       "      <td>AE-2016-1308551</td>\n",
       "      <td>2016-09-28</td>\n",
       "      <td>2016-10-02</td>\n",
       "      <td>SecondClass</td>\n",
       "      <td>PO-8865</td>\n",
       "      <td>OFF-FEL-10001405</td>\n",
       "      <td>82.67</td>\n",
       "      <td>2</td>\n",
       "      <td>0.3</td>\n",
       "      <td>0.3</td>\n",
       "      <td>NaN</td>\n",
       "      <td>9954.0</td>\n",
       "      <td>4 days</td>\n",
       "      <td>28</td>\n",
       "    </tr>\n",
       "    <tr>\n",
       "      <th>1</th>\n",
       "      <td>AE-2016-1522857</td>\n",
       "      <td>2016-09-04</td>\n",
       "      <td>2016-09-09</td>\n",
       "      <td>StandardClass</td>\n",
       "      <td>PO-8865</td>\n",
       "      <td>TEC-EPS-10004171</td>\n",
       "      <td>78.41</td>\n",
       "      <td>6</td>\n",
       "      <td>0.5</td>\n",
       "      <td>0.5</td>\n",
       "      <td>NaN</td>\n",
       "      <td>4792.0</td>\n",
       "      <td>5 days</td>\n",
       "      <td>4</td>\n",
       "    </tr>\n",
       "    <tr>\n",
       "      <th>2</th>\n",
       "      <td>AE-2016-184765</td>\n",
       "      <td>2016-10-03</td>\n",
       "      <td>2016-10-07</td>\n",
       "      <td>SecondClass</td>\n",
       "      <td>PO-8865</td>\n",
       "      <td>OFF-FEL-10001405</td>\n",
       "      <td>82.67</td>\n",
       "      <td>2</td>\n",
       "      <td>0.3</td>\n",
       "      <td>0.3</td>\n",
       "      <td>NaN</td>\n",
       "      <td>19848.0</td>\n",
       "      <td>4 days</td>\n",
       "      <td>3</td>\n",
       "    </tr>\n",
       "    <tr>\n",
       "      <th>3</th>\n",
       "      <td>AE-2016-1878215</td>\n",
       "      <td>2016-09-15</td>\n",
       "      <td>2016-09-17</td>\n",
       "      <td>StandardClass</td>\n",
       "      <td>PO-8865</td>\n",
       "      <td>TEC-EPS-10004171</td>\n",
       "      <td>78.41</td>\n",
       "      <td>6</td>\n",
       "      <td>0.5</td>\n",
       "      <td>0.5</td>\n",
       "      <td>NaN</td>\n",
       "      <td>1410.0</td>\n",
       "      <td>2 days</td>\n",
       "      <td>15</td>\n",
       "    </tr>\n",
       "    <tr>\n",
       "      <th>4</th>\n",
       "      <td>AE-2016-218276</td>\n",
       "      <td>2016-10-09</td>\n",
       "      <td>2016-10-12</td>\n",
       "      <td>StandardClass</td>\n",
       "      <td>PO-8865</td>\n",
       "      <td>TEC-EPS-10004171</td>\n",
       "      <td>78.41</td>\n",
       "      <td>6</td>\n",
       "      <td>0.5</td>\n",
       "      <td>0.5</td>\n",
       "      <td>NaN</td>\n",
       "      <td>1826.0</td>\n",
       "      <td>3 days</td>\n",
       "      <td>9</td>\n",
       "    </tr>\n",
       "  </tbody>\n",
       "</table>\n",
       "</div>"
      ],
      "text/plain": [
       "          order_id order_date   ship_date      ship_mode customer_id  \\\n",
       "0  AE-2016-1308551 2016-09-28  2016-10-02    SecondClass     PO-8865   \n",
       "1  AE-2016-1522857 2016-09-04  2016-09-09  StandardClass     PO-8865   \n",
       "2   AE-2016-184765 2016-10-03  2016-10-07    SecondClass     PO-8865   \n",
       "3  AE-2016-1878215 2016-09-15  2016-09-17  StandardClass     PO-8865   \n",
       "4   AE-2016-218276 2016-10-09  2016-10-12  StandardClass     PO-8865   \n",
       "\n",
       "         product_id  sales  quantity  discount  profit  postal_code  \\\n",
       "0  OFF-FEL-10001405  82.67         2       0.3     0.3          NaN   \n",
       "1  TEC-EPS-10004171  78.41         6       0.5     0.5          NaN   \n",
       "2  OFF-FEL-10001405  82.67         2       0.3     0.3          NaN   \n",
       "3  TEC-EPS-10004171  78.41         6       0.5     0.5          NaN   \n",
       "4  TEC-EPS-10004171  78.41         6       0.5     0.5          NaN   \n",
       "\n",
       "   region_id days_to_ship  day  \n",
       "0     9954.0       4 days   28  \n",
       "1     4792.0       5 days    4  \n",
       "2    19848.0       4 days    3  \n",
       "3     1410.0       2 days   15  \n",
       "4     1826.0       3 days    9  "
      ]
     },
     "execution_count": 67,
     "metadata": {},
     "output_type": "execute_result"
    }
   ],
   "source": [
    "orders.head()"
   ]
  },
  {
   "cell_type": "code",
   "execution_count": 16,
   "metadata": {},
   "outputs": [],
   "source": [
    "# 6.2 Cleaning Our Data\n",
    "# A. Write a profit_margin function that accepts a row of data, which is a dictionary\n",
    "#    It should return the result of dividing the profit column by the sales column (i.e. profit/sales)\n",
    "\n",
    "dic = {'sales':[orders.sales],'profit':[orders.profit]}\n",
    "# سوينا دكشنري و عرفنا فيه الكي الي هي عناوين و الفاليو ح تكون الاعمدة \n"
   ]
  },
  {
   "cell_type": "code",
   "execution_count": 17,
   "metadata": {},
   "outputs": [],
   "source": [
    "def function(row):\n",
    "    return row[\"profit\"] / row[\"sales\"]"
   ]
  },
  {
   "cell_type": "code",
   "execution_count": 18,
   "metadata": {},
   "outputs": [],
   "source": [
    "# B. Create a new column in the orders dataframe called 'profit_margin' by applying the profit margin function row-by-row\n"
   ]
  },
  {
   "cell_type": "code",
   "execution_count": 19,
   "metadata": {},
   "outputs": [],
   "source": [
    "orders['profit_margin'] = orders.apply(function, axis=1)\n",
    "# الاكسيس عشان يطبق الفنكشن على العمود كامل و الا ح يطبقها على صف واحد"
   ]
  },
  {
   "cell_type": "code",
   "execution_count": 20,
   "metadata": {},
   "outputs": [],
   "source": [
    "# C. Use the same process to create a new column called margin_category\n",
    "# If the profit_margin is less than 0, the margin_category should be \"unprofitable\"\n",
    "# If the profit_margin is 0, the margin_category should be \"break even\"\n",
    "# If the profit_margin is above 0, the margin_category should \"profitable\"\n"
   ]
  },
  {
   "cell_type": "code",
   "execution_count": null,
   "metadata": {},
   "outputs": [],
   "source": [
    "# If the profit_margin is less than 0, the margin_category should be \"unprofitable\"\n",
    "orders.loc[orders['profit_margin'] < 0, 'margin_category'] = \"unprofitable\" \n",
    "# If the profit_margin is 0, the margin_category should be \"break even\"\n",
    "orders.loc[orders['profit_margin'] == 0 , 'margin_category'] = \"break even\" \n",
    "# If the profit_margin is above 0, the margin_category should \"profitable\"\n",
    "orders.loc[orders['profit_margin'] > 0 , 'margin_category'] = \"profitable\"  \n",
    "orders.head(3)"
   ]
  },
  {
   "cell_type": "code",
   "execution_count": 21,
   "metadata": {},
   "outputs": [],
   "source": [
    "def margin_category(profit_margin):\n",
    "        if profit_margin < 0:\n",
    "            return \"unprofitable\"\n",
    "        elif profit_margin ==0:\n",
    "            return \"break even\"\n",
    "        else:\n",
    "            return  \"profitable\"\n"
   ]
  },
  {
   "cell_type": "code",
   "execution_count": 24,
   "metadata": {},
   "outputs": [],
   "source": [
    "orders['margin_category']=orders['profit_margin'].apply(margin_category)"
   ]
  },
  {
   "cell_type": "code",
   "execution_count": null,
   "metadata": {},
   "outputs": [],
   "source": [
    "orders['margin_category']=orders['profit_margin'].apply(margin_category)"
   ]
  },
  {
   "cell_type": "code",
   "execution_count": 25,
   "metadata": {},
   "outputs": [
    {
     "data": {
      "text/html": [
       "<div>\n",
       "<style scoped>\n",
       "    .dataframe tbody tr th:only-of-type {\n",
       "        vertical-align: middle;\n",
       "    }\n",
       "\n",
       "    .dataframe tbody tr th {\n",
       "        vertical-align: top;\n",
       "    }\n",
       "\n",
       "    .dataframe thead th {\n",
       "        text-align: right;\n",
       "    }\n",
       "</style>\n",
       "<table border=\"1\" class=\"dataframe\">\n",
       "  <thead>\n",
       "    <tr style=\"text-align: right;\">\n",
       "      <th></th>\n",
       "      <th>order_id</th>\n",
       "      <th>order_date</th>\n",
       "      <th>ship_date</th>\n",
       "      <th>ship_mode</th>\n",
       "      <th>customer_id</th>\n",
       "      <th>product_id</th>\n",
       "      <th>sales</th>\n",
       "      <th>quantity</th>\n",
       "      <th>discount</th>\n",
       "      <th>profit</th>\n",
       "      <th>postal_code</th>\n",
       "      <th>region_id</th>\n",
       "      <th>profit_margin</th>\n",
       "      <th>margin_category</th>\n",
       "    </tr>\n",
       "  </thead>\n",
       "  <tbody>\n",
       "    <tr>\n",
       "      <th>0</th>\n",
       "      <td>AE-2016-1308551</td>\n",
       "      <td>2016-09-28</td>\n",
       "      <td>2016-10-02</td>\n",
       "      <td>Second Class</td>\n",
       "      <td>PO-8865</td>\n",
       "      <td>OFF-FEL-10001405</td>\n",
       "      <td>82.67</td>\n",
       "      <td>2</td>\n",
       "      <td>0.3</td>\n",
       "      <td>0.3</td>\n",
       "      <td>None</td>\n",
       "      <td>9954.0</td>\n",
       "      <td>0.003629</td>\n",
       "      <td>profitable</td>\n",
       "    </tr>\n",
       "    <tr>\n",
       "      <th>1</th>\n",
       "      <td>AE-2016-1522857</td>\n",
       "      <td>2016-09-04</td>\n",
       "      <td>2016-09-09</td>\n",
       "      <td>Standard Class</td>\n",
       "      <td>PO-8865</td>\n",
       "      <td>TEC-EPS-10004171</td>\n",
       "      <td>78.41</td>\n",
       "      <td>6</td>\n",
       "      <td>0.5</td>\n",
       "      <td>0.5</td>\n",
       "      <td>None</td>\n",
       "      <td>4792.0</td>\n",
       "      <td>0.006377</td>\n",
       "      <td>profitable</td>\n",
       "    </tr>\n",
       "    <tr>\n",
       "      <th>2</th>\n",
       "      <td>AE-2016-184765</td>\n",
       "      <td>2016-10-03</td>\n",
       "      <td>2016-10-07</td>\n",
       "      <td>Second Class</td>\n",
       "      <td>PO-8865</td>\n",
       "      <td>OFF-FEL-10001405</td>\n",
       "      <td>82.67</td>\n",
       "      <td>2</td>\n",
       "      <td>0.3</td>\n",
       "      <td>0.3</td>\n",
       "      <td>None</td>\n",
       "      <td>19848.0</td>\n",
       "      <td>0.003629</td>\n",
       "      <td>profitable</td>\n",
       "    </tr>\n",
       "    <tr>\n",
       "      <th>3</th>\n",
       "      <td>AE-2016-1878215</td>\n",
       "      <td>2016-09-15</td>\n",
       "      <td>2016-09-17</td>\n",
       "      <td>Standard Class</td>\n",
       "      <td>PO-8865</td>\n",
       "      <td>TEC-EPS-10004171</td>\n",
       "      <td>78.41</td>\n",
       "      <td>6</td>\n",
       "      <td>0.5</td>\n",
       "      <td>0.5</td>\n",
       "      <td>None</td>\n",
       "      <td>1410.0</td>\n",
       "      <td>0.006377</td>\n",
       "      <td>profitable</td>\n",
       "    </tr>\n",
       "    <tr>\n",
       "      <th>4</th>\n",
       "      <td>AE-2016-218276</td>\n",
       "      <td>2016-10-09</td>\n",
       "      <td>2016-10-12</td>\n",
       "      <td>Standard Class</td>\n",
       "      <td>PO-8865</td>\n",
       "      <td>TEC-EPS-10004171</td>\n",
       "      <td>78.41</td>\n",
       "      <td>6</td>\n",
       "      <td>0.5</td>\n",
       "      <td>0.5</td>\n",
       "      <td>None</td>\n",
       "      <td>1826.0</td>\n",
       "      <td>0.006377</td>\n",
       "      <td>profitable</td>\n",
       "    </tr>\n",
       "  </tbody>\n",
       "</table>\n",
       "</div>"
      ],
      "text/plain": [
       "          order_id  order_date   ship_date       ship_mode customer_id  \\\n",
       "0  AE-2016-1308551  2016-09-28  2016-10-02    Second Class     PO-8865   \n",
       "1  AE-2016-1522857  2016-09-04  2016-09-09  Standard Class     PO-8865   \n",
       "2   AE-2016-184765  2016-10-03  2016-10-07    Second Class     PO-8865   \n",
       "3  AE-2016-1878215  2016-09-15  2016-09-17  Standard Class     PO-8865   \n",
       "4   AE-2016-218276  2016-10-09  2016-10-12  Standard Class     PO-8865   \n",
       "\n",
       "         product_id  sales  quantity  discount  profit postal_code  region_id  \\\n",
       "0  OFF-FEL-10001405  82.67         2       0.3     0.3        None     9954.0   \n",
       "1  TEC-EPS-10004171  78.41         6       0.5     0.5        None     4792.0   \n",
       "2  OFF-FEL-10001405  82.67         2       0.3     0.3        None    19848.0   \n",
       "3  TEC-EPS-10004171  78.41         6       0.5     0.5        None     1410.0   \n",
       "4  TEC-EPS-10004171  78.41         6       0.5     0.5        None     1826.0   \n",
       "\n",
       "   profit_margin margin_category  \n",
       "0       0.003629      profitable  \n",
       "1       0.006377      profitable  \n",
       "2       0.003629      profitable  \n",
       "3       0.006377      profitable  \n",
       "4       0.006377      profitable  "
      ]
     },
     "execution_count": 25,
     "metadata": {},
     "output_type": "execute_result"
    }
   ],
   "source": [
    "orders.head()"
   ]
  },
  {
   "cell_type": "code",
   "execution_count": null,
   "metadata": {},
   "outputs": [],
   "source": [
    "# D. How many of our orders were unprofitable?\n"
   ]
  },
  {
   "cell_type": "code",
   "execution_count": 30,
   "metadata": {},
   "outputs": [
    {
     "data": {
      "text/plain": [
       "profitable      876500\n",
       "break even      110952\n",
       "unprofitable     12539\n",
       "Name: margin_category, dtype: int64"
      ]
     },
     "execution_count": 30,
     "metadata": {},
     "output_type": "execute_result"
    }
   ],
   "source": [
    "orders[\"margin_category\"].value_counts()"
   ]
  },
  {
   "cell_type": "code",
   "execution_count": 36,
   "metadata": {},
   "outputs": [
    {
     "data": {
      "text/plain": [
       "12539"
      ]
     },
     "execution_count": 36,
     "metadata": {},
     "output_type": "execute_result"
    }
   ],
   "source": [
    "orders.query(\"margin_category=='unprofitable'\").shape[0]"
   ]
  },
  {
   "cell_type": "code",
   "execution_count": 34,
   "metadata": {},
   "outputs": [
    {
     "data": {
      "text/plain": [
       "12539"
      ]
     },
     "execution_count": 34,
     "metadata": {},
     "output_type": "execute_result"
    }
   ],
   "source": [
    "orders[orders['margin_category']=='unprofitable'].shape[0]\n",
    "# هنا وظيفة الشيب ح يطلع النتيجة الي هي عدد الصفوف"
   ]
  },
  {
   "cell_type": "code",
   "execution_count": null,
   "metadata": {},
   "outputs": [],
   "source": [
    "# 6.3 GroupBy Insights\n",
    "# Segment the following data and explore aggregate values to answer the following questions"
   ]
  },
  {
   "cell_type": "code",
   "execution_count": 40,
   "metadata": {},
   "outputs": [
    {
     "data": {
      "text/plain": [
       "ship_mode       customer_id\n",
       "First Class     AA-10315        99.398333\n",
       "                AA-10375       132.702000\n",
       "                AA-10480        65.943667\n",
       "                AA-10645        84.380946\n",
       "                AA-315           4.500000\n",
       "                                  ...    \n",
       "Standard Class  YS-21880       441.962017\n",
       "                ZC-11910         7.170000\n",
       "                ZC-21910       441.727853\n",
       "                ZD-11925       226.740080\n",
       "                ZD-21925       313.598942\n",
       "Name: sales, Length: 6040, dtype: float64"
      ]
     },
     "execution_count": 40,
     "metadata": {},
     "output_type": "execute_result"
    }
   ],
   "source": [
    "orders.groupby(['ship_mode', 'customer_id'])['sales'].mean()"
   ]
  },
  {
   "cell_type": "code",
   "execution_count": 58,
   "metadata": {},
   "outputs": [
    {
     "data": {
      "text/html": [
       "<div>\n",
       "<style scoped>\n",
       "    .dataframe tbody tr th:only-of-type {\n",
       "        vertical-align: middle;\n",
       "    }\n",
       "\n",
       "    .dataframe tbody tr th {\n",
       "        vertical-align: top;\n",
       "    }\n",
       "\n",
       "    .dataframe thead th {\n",
       "        text-align: right;\n",
       "    }\n",
       "</style>\n",
       "<table border=\"1\" class=\"dataframe\">\n",
       "  <thead>\n",
       "    <tr style=\"text-align: right;\">\n",
       "      <th></th>\n",
       "      <th>count</th>\n",
       "      <th>mean</th>\n",
       "      <th>min</th>\n",
       "      <th>max</th>\n",
       "    </tr>\n",
       "    <tr>\n",
       "      <th>ship_mode</th>\n",
       "      <th></th>\n",
       "      <th></th>\n",
       "      <th></th>\n",
       "      <th></th>\n",
       "    </tr>\n",
       "  </thead>\n",
       "  <tbody>\n",
       "    <tr>\n",
       "      <th>First Class</th>\n",
       "      <td>52655</td>\n",
       "      <td>93.876810</td>\n",
       "      <td>0.98</td>\n",
       "      <td>13999.96</td>\n",
       "    </tr>\n",
       "    <tr>\n",
       "      <th>Same Day</th>\n",
       "      <td>206222</td>\n",
       "      <td>61.410539</td>\n",
       "      <td>0.56</td>\n",
       "      <td>8187.65</td>\n",
       "    </tr>\n",
       "    <tr>\n",
       "      <th>Second Class</th>\n",
       "      <td>335758</td>\n",
       "      <td>227.750184</td>\n",
       "      <td>0.56</td>\n",
       "      <td>9892.74</td>\n",
       "    </tr>\n",
       "    <tr>\n",
       "      <th>Standard Class</th>\n",
       "      <td>405356</td>\n",
       "      <td>374.503994</td>\n",
       "      <td>0.44</td>\n",
       "      <td>22638.48</td>\n",
       "    </tr>\n",
       "  </tbody>\n",
       "</table>\n",
       "</div>"
      ],
      "text/plain": [
       "                 count        mean   min       max\n",
       "ship_mode                                         \n",
       "First Class      52655   93.876810  0.98  13999.96\n",
       "Same Day        206222   61.410539  0.56   8187.65\n",
       "Second Class    335758  227.750184  0.56   9892.74\n",
       "Standard Class  405356  374.503994  0.44  22638.48"
      ]
     },
     "execution_count": 58,
     "metadata": {},
     "output_type": "execute_result"
    }
   ],
   "source": [
    "orders.groupby(['ship_mode'])['sales'].agg(['count','mean','min','max'])"
   ]
  },
  {
   "cell_type": "code",
   "execution_count": 76,
   "metadata": {
    "scrolled": false
   },
   "outputs": [
    {
     "data": {
      "text/plain": [
       "0.63"
      ]
     },
     "execution_count": 76,
     "metadata": {},
     "output_type": "execute_result"
    }
   ],
   "source": [
    "# A. Which discount results in the highest mean order quantity?\n",
    "orders.groupby('discount')['quantity'].mean().sort_values(ascending =False).iloc[[0]].index[0]\n",
    "\n",
    "# هنا عملنا قروب للديسكاونت \n",
    "# و نبغى لمتوسط للكونانتيتي \n",
    "# السورت فاليو عشان نطلعها بالترتيب و نختار فولز عشان يكون بالاكبر \n",
    "#الاي لوك عشان ندخل جوا الجدول ف حي طلع لنا الصف الاول\n",
    "# الاندكس 0 معناه اول خلية \n",
    "# الاقواس المربعة عشان يطلعها داتافريم والا ما ح يطلع من دونها و يكون غلط\n"
   ]
  },
  {
   "cell_type": "code",
   "execution_count": 77,
   "metadata": {
    "scrolled": true
   },
   "outputs": [
    {
     "data": {
      "text/plain": [
       "'OFF-AP-10002899'"
      ]
     },
     "execution_count": 77,
     "metadata": {},
     "output_type": "execute_result"
    }
   ],
   "source": [
    "# B. Which product has the highest mean price discount applied?\n",
    "orders.groupby('product_id')['discount'].mean().sort_values(ascending =False).iloc[[0]].index[0]"
   ]
  },
  {
   "cell_type": "code",
   "execution_count": 69,
   "metadata": {},
   "outputs": [
    {
     "data": {
      "text/html": [
       "<div>\n",
       "<style scoped>\n",
       "    .dataframe tbody tr th:only-of-type {\n",
       "        vertical-align: middle;\n",
       "    }\n",
       "\n",
       "    .dataframe tbody tr th {\n",
       "        vertical-align: top;\n",
       "    }\n",
       "\n",
       "    .dataframe thead th {\n",
       "        text-align: right;\n",
       "    }\n",
       "</style>\n",
       "<table border=\"1\" class=\"dataframe\">\n",
       "  <thead>\n",
       "    <tr style=\"text-align: right;\">\n",
       "      <th></th>\n",
       "      <th>mean</th>\n",
       "      <th>max</th>\n",
       "    </tr>\n",
       "    <tr>\n",
       "      <th>product_id</th>\n",
       "      <th></th>\n",
       "      <th></th>\n",
       "    </tr>\n",
       "  </thead>\n",
       "  <tbody>\n",
       "    <tr>\n",
       "      <th>FUR-ADV-10000002</th>\n",
       "      <td>0.205147</td>\n",
       "      <td>0.35</td>\n",
       "    </tr>\n",
       "    <tr>\n",
       "      <th>FUR-ADV-10000108</th>\n",
       "      <td>0.066522</td>\n",
       "      <td>0.07</td>\n",
       "    </tr>\n",
       "    <tr>\n",
       "      <th>FUR-ADV-10000183</th>\n",
       "      <td>0.240765</td>\n",
       "      <td>0.35</td>\n",
       "    </tr>\n",
       "    <tr>\n",
       "      <th>FUR-ADV-10000188</th>\n",
       "      <td>0.235196</td>\n",
       "      <td>0.35</td>\n",
       "    </tr>\n",
       "    <tr>\n",
       "      <th>FUR-ADV-10000190</th>\n",
       "      <td>0.300000</td>\n",
       "      <td>0.30</td>\n",
       "    </tr>\n",
       "    <tr>\n",
       "      <th>...</th>\n",
       "      <td>...</td>\n",
       "      <td>...</td>\n",
       "    </tr>\n",
       "    <tr>\n",
       "      <th>TEC-STA-10004181</th>\n",
       "      <td>0.393095</td>\n",
       "      <td>0.55</td>\n",
       "    </tr>\n",
       "    <tr>\n",
       "      <th>TEC-STA-10004536</th>\n",
       "      <td>0.445783</td>\n",
       "      <td>0.57</td>\n",
       "    </tr>\n",
       "    <tr>\n",
       "      <th>TEC-STA-10004542</th>\n",
       "      <td>0.355833</td>\n",
       "      <td>0.55</td>\n",
       "    </tr>\n",
       "    <tr>\n",
       "      <th>TEC-STA-10004834</th>\n",
       "      <td>0.333750</td>\n",
       "      <td>0.50</td>\n",
       "    </tr>\n",
       "    <tr>\n",
       "      <th>TEC-STA-10004927</th>\n",
       "      <td>0.500000</td>\n",
       "      <td>0.50</td>\n",
       "    </tr>\n",
       "  </tbody>\n",
       "</table>\n",
       "<p>10292 rows × 2 columns</p>\n",
       "</div>"
      ],
      "text/plain": [
       "                      mean   max\n",
       "product_id                      \n",
       "FUR-ADV-10000002  0.205147  0.35\n",
       "FUR-ADV-10000108  0.066522  0.07\n",
       "FUR-ADV-10000183  0.240765  0.35\n",
       "FUR-ADV-10000188  0.235196  0.35\n",
       "FUR-ADV-10000190  0.300000  0.30\n",
       "...                    ...   ...\n",
       "TEC-STA-10004181  0.393095  0.55\n",
       "TEC-STA-10004536  0.445783  0.57\n",
       "TEC-STA-10004542  0.355833  0.55\n",
       "TEC-STA-10004834  0.333750  0.50\n",
       "TEC-STA-10004927  0.500000  0.50\n",
       "\n",
       "[10292 rows x 2 columns]"
      ]
     },
     "execution_count": 69,
     "metadata": {},
     "output_type": "execute_result"
    }
   ],
   "source": [
    "orders.groupby('product_id')['discount'].agg(['mean', 'max'])"
   ]
  },
  {
   "cell_type": "code",
   "execution_count": null,
   "metadata": {},
   "outputs": [],
   "source": [
    "# 6.4 Joining DataFrames\n",
    "# The below example joins our first two dataframes by their shared column, Symbol\n",
    "openprice = pd.DataFrame({'Symbol': ['AAPL', 'DHR', 'DAL', 'AMZN'], 'OpenPrice': [217.51, 96.54, 51.45, 1703.34]})\n",
    "wkhigh = pd.DataFrame({'Symbol': ['DAL', 'AMZN', 'AAPL', 'DHR'], '52wkHigh': [60.79, 2050.49, 233.47, 110.11]})\n",
    "combined = pd.merge(openprice, wkhigh, how=\"left\", left_on='Symbol', right_on='Symbol')\n",
    "combined.head()"
   ]
  },
  {
   "cell_type": "code",
   "execution_count": null,
   "metadata": {
    "scrolled": false
   },
   "outputs": [],
   "source": [
    "# A. Join the stockname dataframe to our combined result and print the result\n",
    "stockname = pd.DataFrame({'Symbol': ['AMZN', 'DHR', 'DAL', 'AAPL'], 'Name': ['Amazon', 'Danaher', 'Delta Airlines', 'Apple']})\n"
   ]
  },
  {
   "cell_type": "code",
   "execution_count": null,
   "metadata": {},
   "outputs": [],
   "source": [
    "# B. Use the following tables from Super Store\n",
    "products = pd.read_csv('./datasets/products.csv')\n",
    "orders = pd.read_csv('./datasets/orders.csv')\n",
    "returns = pd.read_csv('./datasets/returns.csv')\n",
    "regions = pd.read_csv('./datasets/regions.csv')"
   ]
  },
  {
   "cell_type": "code",
   "execution_count": null,
   "metadata": {
    "scrolled": true
   },
   "outputs": [],
   "source": [
    "# i. We want to join the products and orders dataframes. \n",
    "#    Explore both dataframes to identify the common column between them\n",
    "#    Use a left join to combine the tables in a dataframe named orders_with_products\n"
   ]
  },
  {
   "cell_type": "code",
   "execution_count": null,
   "metadata": {},
   "outputs": [],
   "source": [
    "# ii. Left join the orders_with_products and returns dataframes\n"
   ]
  },
  {
   "cell_type": "code",
   "execution_count": null,
   "metadata": {},
   "outputs": [],
   "source": [
    "# iii. Finally, add the region data to our combined dataframe\n"
   ]
  },
  {
   "cell_type": "code",
   "execution_count": null,
   "metadata": {},
   "outputs": [],
   "source": [
    "# iv. Let's use this combined dataframe to determine the salesperson generating the most profit\n"
   ]
  }
 ],
 "metadata": {
  "kernelspec": {
   "display_name": "Python 3",
   "language": "python",
   "name": "python3"
  },
  "language_info": {
   "codemirror_mode": {
    "name": "ipython",
    "version": 3
   },
   "file_extension": ".py",
   "mimetype": "text/x-python",
   "name": "python",
   "nbconvert_exporter": "python",
   "pygments_lexer": "ipython3",
   "version": "3.8.5"
  }
 },
 "nbformat": 4,
 "nbformat_minor": 4
}
