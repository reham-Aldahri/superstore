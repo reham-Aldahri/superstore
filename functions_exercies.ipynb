{
 "cells": [
  {
   "cell_type": "markdown",
   "metadata": {},
   "source": [
    "<img src=\"https://seedcamp.com/wp-content/uploads/2010/12/GA-general-assembly-logo.png\" style=\"float: left; margin: 30px; height: 80px\">\n",
    "\n",
    "# Functions Exercises\n",
    "\n",
    "\n",
    "\n",
    "---"
   ]
  },
  {
   "cell_type": "markdown",
   "metadata": {},
   "source": [
    "YOUR NAME HERE :"
   ]
  },
  {
   "cell_type": "markdown",
   "metadata": {},
   "source": [
    "### 1. Sum of List\n",
    "- function name is `sum_of_list`\n",
    "- input arguments are:\n",
    "  - list of numbers : `nums`\n",
    "- return is:\n",
    "  - number: sum of all elements in `nums`"
   ]
  },
  {
   "cell_type": "code",
   "execution_count": 1,
   "metadata": {},
   "outputs": [],
   "source": [
    "# A:\n",
    "def sum_of_list (nums):\n",
    "    total = sum (nums)\n",
    "    return total "
   ]
  },
  {
   "cell_type": "code",
   "execution_count": 4,
   "metadata": {},
   "outputs": [
    {
     "data": {
      "text/plain": [
       "27"
      ]
     },
     "execution_count": 4,
     "metadata": {},
     "output_type": "execute_result"
    }
   ],
   "source": [
    "nums =[5,6,8,3,5]\n",
    "sum_of_list(nums)"
   ]
  },
  {
   "cell_type": "markdown",
   "metadata": {},
   "source": [
    "### 2. Multiply Elements of List\n",
    "- function name is `multiply_list`\n",
    "- input arguments are:\n",
    "  - list of numbers : `nums`\n",
    "- return is:\n",
    "  - number: product of all elements in `nums`"
   ]
  },
  {
   "cell_type": "code",
   "execution_count": 8,
   "metadata": {},
   "outputs": [],
   "source": [
    "# A:\n",
    "def multiply_list (nums):\n",
    "    total = 1\n",
    "    for num in nums:\n",
    "        total*= num\n",
    "    return total"
   ]
  },
  {
   "cell_type": "code",
   "execution_count": 9,
   "metadata": {},
   "outputs": [
    {
     "data": {
      "text/plain": [
       "3600"
      ]
     },
     "execution_count": 9,
     "metadata": {},
     "output_type": "execute_result"
    }
   ],
   "source": [
    "nums =[5,6,8,3,5]\n",
    "multiply_list (nums)"
   ]
  },
  {
   "cell_type": "markdown",
   "metadata": {},
   "source": [
    "### 3. Reverse a String\n",
    "- function name is `reverse_string`\n",
    "- input arguments are:\n",
    "  - string : `string_to_reverse`\n",
    "- return is:\n",
    "  - string : `reversed_string`, the reversed result of input `string_to_reverse`\n",
    "  \n",
    "Note: Do not use `[::-1]` indexing to solve this problem, use loops."
   ]
  },
  {
   "cell_type": "code",
   "execution_count": 271,
   "metadata": {},
   "outputs": [],
   "source": [
    "# A:\n",
    "def reverse_string(string_to_reverse):\n",
    "    reversed_string = ''\n",
    "    for char in string_to_reverse:\n",
    "        reversed_string =  char + reversed_string\n",
    "    return reversed_string\n",
    "    \n"
   ]
  },
  {
   "cell_type": "code",
   "execution_count": 269,
   "metadata": {},
   "outputs": [],
   "source": [
    "def reverse_string(string_to_reverse):\n",
    "    reversed_string = ''\n",
    "    index = len(reversed_string)\n",
    "    while( index > 0):\n",
    "        reversed_string =+  reversed_string[index -1]\n",
    "    return reversed_string\n",
    "    "
   ]
  },
  {
   "cell_type": "code",
   "execution_count": null,
   "metadata": {},
   "outputs": [],
   "source": [
    "a = \"Abdulilah\"\n",
    "\n",
    "def reverse_string(a):\n",
    "    b = []\n",
    "    i = len(a)\n",
    "    while i > 0:\n",
    "        b += a[i-1]\n",
    "        i = i - 1\n",
    "    return b\n",
    "\n",
    "print(\"\".join(reverse_string(a)))\n"
   ]
  },
  {
   "cell_type": "code",
   "execution_count": 272,
   "metadata": {},
   "outputs": [
    {
     "data": {
      "text/plain": [
       "'MaheR'"
      ]
     },
     "execution_count": 272,
     "metadata": {},
     "output_type": "execute_result"
    }
   ],
   "source": [
    "my_string = 'RehaM'\n",
    "reverse_string(my_string)"
   ]
  },
  {
   "cell_type": "code",
   "execution_count": 264,
   "metadata": {},
   "outputs": [],
   "source": [
    "def reverse_string(string_to_reverse):\n",
    "    reversed_list = list(string_to_reverse)\n",
    "    reversed_list.reverse()\n",
    "    return ''.join( reversed_list)"
   ]
  },
  {
   "cell_type": "code",
   "execution_count": 195,
   "metadata": {},
   "outputs": [
    {
     "data": {
      "text/plain": [
       "'aldahrireham'"
      ]
     },
     "execution_count": 195,
     "metadata": {},
     "output_type": "execute_result"
    }
   ],
   "source": [
    "list_to_reversed = ['reham', 'aldahri']\n",
    "reverse_string (list_to_reversed)"
   ]
  },
  {
   "cell_type": "markdown",
   "metadata": {},
   "source": [
    "### 4. Max of Three\n",
    "- function name is `max_of_three`\n",
    "- input arguments are:\n",
    "  - int : `x`\n",
    "  - int : `y`\n",
    "  - int : `z`\n",
    "- return is:\n",
    "  - int: max value of `x`, `y`, and `z`"
   ]
  },
  {
   "cell_type": "code",
   "execution_count": 303,
   "metadata": {},
   "outputs": [],
   "source": [
    "# A:\n",
    "def max_of_three (x,y,z):\n",
    "    max_number = max(x,y,z)\n",
    "    return max_number"
   ]
  },
  {
   "cell_type": "code",
   "execution_count": 256,
   "metadata": {},
   "outputs": [],
   "source": [
    "def max_of_three (x,y,z):\n",
    "    if x >y :\n",
    "        maximum = x\n",
    "    else:\n",
    "         maximum = y\n",
    "    if z>  maximum :\n",
    "         maximum = z\n",
    "    return maximum    "
   ]
  },
  {
   "cell_type": "code",
   "execution_count": 257,
   "metadata": {},
   "outputs": [
    {
     "data": {
      "text/plain": [
       "10"
      ]
     },
     "execution_count": 257,
     "metadata": {},
     "output_type": "execute_result"
    }
   ],
   "source": [
    "max_of_three (5,10,7)"
   ]
  },
  {
   "cell_type": "markdown",
   "metadata": {},
   "source": [
    "### 5. Unique Elements Only\n",
    "- function name is `make_unique`\n",
    "- input arguments are:\n",
    "  - list (mixed types)\n",
    "- return is:\n",
    "  - list (mixed types)\n",
    "  \n",
    "Note: Do not use `set` to solve this problem."
   ]
  },
  {
   "cell_type": "code",
   "execution_count": 144,
   "metadata": {},
   "outputs": [],
   "source": [
    "# A:\n",
    "def make_unique (mix_text):\n",
    "    unique = []\n",
    "    for text in mix_text:\n",
    "        if text not in unique:\n",
    "            unique.append(text)\n",
    "    return unique"
   ]
  },
  {
   "cell_type": "code",
   "execution_count": 145,
   "metadata": {},
   "outputs": [
    {
     "data": {
      "text/plain": [
       "['Reham', 'Aldahri']"
      ]
     },
     "execution_count": 145,
     "metadata": {},
     "output_type": "execute_result"
    }
   ],
   "source": [
    "mixed_types= ['Reham','Reham','Aldahri' , 'Aldahri']\n",
    "make_unique(mixed_types)"
   ]
  },
  {
   "cell_type": "code",
   "execution_count": 135,
   "metadata": {},
   "outputs": [],
   "source": [
    "def make_unique(text):\n",
    "    unique = set(text)\n",
    "    unique_list = (list(unique))\n",
    "    for x in unique_list:\n",
    "        print (x)"
   ]
  },
  {
   "cell_type": "code",
   "execution_count": null,
   "metadata": {},
   "outputs": [],
   "source": []
  },
  {
   "cell_type": "code",
   "execution_count": 136,
   "metadata": {},
   "outputs": [
    {
     "name": "stdout",
     "output_type": "stream",
     "text": [
      "Aldahri\n",
      "Reham\n"
     ]
    }
   ],
   "source": [
    "mixed_types= ['Reham','Reham','Aldahri' , 'Aldahri']\n",
    "make_unique(mixed_types)"
   ]
  },
  {
   "cell_type": "markdown",
   "metadata": {},
   "source": [
    "### 6. [BONUS] Is It a [Palindrome?](https://en.wikipedia.org/wiki/Palindrome)\n",
    "- function name is `is_word_palindrome`\n",
    "- input arguments are:\n",
    "  - string\n",
    "- return is:\n",
    "  - boolean (True if input string is Palindrome, else False)\n",
    "  \n",
    "Note: Do not use [::-1] indexing to solve this problem.\n",
    "Note 2: Whitespace should be considered as a character against which to evaluate symmetry."
   ]
  },
  {
   "cell_type": "code",
   "execution_count": 241,
   "metadata": {},
   "outputs": [],
   "source": [
    "# A:\n",
    "def is_word_palindrome (string):\n",
    "    text = ''\n",
    "    for char in string:\n",
    "        text = char + text\n",
    "    if string == text:\n",
    "        return True\n",
    "    else:\n",
    "        return False"
   ]
  },
  {
   "cell_type": "code",
   "execution_count": 243,
   "metadata": {},
   "outputs": [
    {
     "data": {
      "text/plain": [
       "False"
      ]
     },
     "execution_count": 243,
     "metadata": {},
     "output_type": "execute_result"
    }
   ],
   "source": [
    "is_word_palindrome('reham')\n"
   ]
  },
  {
   "cell_type": "code",
   "execution_count": 258,
   "metadata": {},
   "outputs": [
    {
     "data": {
      "text/plain": [
       "True"
      ]
     },
     "execution_count": 258,
     "metadata": {},
     "output_type": "execute_result"
    }
   ],
   "source": [
    "is_word_palindrome('pop')"
   ]
  },
  {
   "cell_type": "code",
   "execution_count": 238,
   "metadata": {},
   "outputs": [],
   "source": [
    "def is_word_palindrome(string):\n",
    "    reversed_string = ''\n",
    "    for char in string:\n",
    "        reversed_string =  char + reversed_string\n",
    "    if reversed_string == string:\n",
    "        return True\n",
    "    else:\n",
    "        return False\n",
    "    "
   ]
  },
  {
   "cell_type": "code",
   "execution_count": 239,
   "metadata": {},
   "outputs": [
    {
     "data": {
      "text/plain": [
       "True"
      ]
     },
     "execution_count": 239,
     "metadata": {},
     "output_type": "execute_result"
    }
   ],
   "source": [
    "is_word_palindrome('pop')\n"
   ]
  },
  {
   "cell_type": "code",
   "execution_count": 240,
   "metadata": {},
   "outputs": [
    {
     "data": {
      "text/plain": [
       "False"
      ]
     },
     "execution_count": 240,
     "metadata": {},
     "output_type": "execute_result"
    }
   ],
   "source": [
    "is_word_palindrome('reham')"
   ]
  },
  {
   "cell_type": "code",
   "execution_count": 275,
   "metadata": {},
   "outputs": [],
   "source": [
    "def is_word_palindrome(string):\n",
    "     return string == reverse_string (string)"
   ]
  },
  {
   "cell_type": "code",
   "execution_count": 276,
   "metadata": {},
   "outputs": [
    {
     "data": {
      "text/plain": [
       "False"
      ]
     },
     "execution_count": 276,
     "metadata": {},
     "output_type": "execute_result"
    }
   ],
   "source": [
    "is_word_palindrome('reham')"
   ]
  },
  {
   "cell_type": "markdown",
   "metadata": {},
   "source": [
    "### 7. FizzBuzz"
   ]
  },
  {
   "cell_type": "markdown",
   "metadata": {},
   "source": [
    "This is a very common programming question. It’s often on job interviews and a buzzword in the industry as a\n",
    "simple but common task to show your understanding.\n",
    "\n",
    "Write a program (functions) that prints the numbers from 1 to 101, but:\n",
    "\n",
    "- For multiples of three, print “Fizz” instead of the number.\n",
    "\n",
    "- For multiples of five, print “Buzz”.\n",
    "\n",
    "- For numbers which are multiples of both three and five, print “FizzBuzz”.\n"
   ]
  },
  {
   "cell_type": "code",
   "execution_count": 283,
   "metadata": {},
   "outputs": [],
   "source": [
    "# A:\n",
    "\n",
    "def fizz_buzz():\n",
    "    y = range(1,102)\n",
    "    for n in (y):\n",
    "        if  n %3 == 0 and n %5 == 0:\n",
    "            print('fizzBuzz')\n",
    "        elif n %5 == 0:\n",
    "            print('Buzz')\n",
    "        elif n %3 == 0:\n",
    "            print('fizz')\n",
    "        else:\n",
    "            print (n)\n",
    "        "
   ]
  },
  {
   "cell_type": "code",
   "execution_count": 284,
   "metadata": {},
   "outputs": [
    {
     "name": "stdout",
     "output_type": "stream",
     "text": [
      "1\n",
      "2\n",
      "fizz\n",
      "4\n",
      "Buzz\n",
      "fizz\n",
      "7\n",
      "8\n",
      "fizz\n",
      "Buzz\n",
      "11\n",
      "fizz\n",
      "13\n",
      "14\n",
      "fizzBuzz\n",
      "16\n",
      "17\n",
      "fizz\n",
      "19\n",
      "Buzz\n",
      "fizz\n",
      "22\n",
      "23\n",
      "fizz\n",
      "Buzz\n",
      "26\n",
      "fizz\n",
      "28\n",
      "29\n",
      "fizzBuzz\n",
      "31\n",
      "32\n",
      "fizz\n",
      "34\n",
      "Buzz\n",
      "fizz\n",
      "37\n",
      "38\n",
      "fizz\n",
      "Buzz\n",
      "41\n",
      "fizz\n",
      "43\n",
      "44\n",
      "fizzBuzz\n",
      "46\n",
      "47\n",
      "fizz\n",
      "49\n",
      "Buzz\n",
      "fizz\n",
      "52\n",
      "53\n",
      "fizz\n",
      "Buzz\n",
      "56\n",
      "fizz\n",
      "58\n",
      "59\n",
      "fizzBuzz\n",
      "61\n",
      "62\n",
      "fizz\n",
      "64\n",
      "Buzz\n",
      "fizz\n",
      "67\n",
      "68\n",
      "fizz\n",
      "Buzz\n",
      "71\n",
      "fizz\n",
      "73\n",
      "74\n",
      "fizzBuzz\n",
      "76\n",
      "77\n",
      "fizz\n",
      "79\n",
      "Buzz\n",
      "fizz\n",
      "82\n",
      "83\n",
      "fizz\n",
      "Buzz\n",
      "86\n",
      "fizz\n",
      "88\n",
      "89\n",
      "fizzBuzz\n",
      "91\n",
      "92\n",
      "fizz\n",
      "94\n",
      "Buzz\n",
      "fizz\n",
      "97\n",
      "98\n",
      "fizz\n",
      "Buzz\n",
      "101\n"
     ]
    }
   ],
   "source": [
    "fizz_buzz()"
   ]
  },
  {
   "cell_type": "code",
   "execution_count": 280,
   "metadata": {},
   "outputs": [],
   "source": [
    "def fizz_buzz(n):\n",
    "    for n in range(1,n+1):\n",
    "        if  n %15 == 0:\n",
    "                print('fizzBuzz')\n",
    "        elif n %5 == 0:\n",
    "            print('Buzz')\n",
    "        elif n %3 == 0:\n",
    "            print('fizz')\n",
    "        else:\n",
    "            print (n)\n",
    "    "
   ]
  },
  {
   "cell_type": "code",
   "execution_count": 282,
   "metadata": {},
   "outputs": [
    {
     "name": "stdout",
     "output_type": "stream",
     "text": [
      "1\n",
      "2\n",
      "fizz\n",
      "4\n",
      "Buzz\n",
      "fizz\n",
      "7\n",
      "8\n",
      "fizz\n",
      "Buzz\n",
      "11\n",
      "fizz\n",
      "13\n",
      "14\n",
      "fizzBuzz\n",
      "16\n",
      "17\n",
      "fizz\n",
      "19\n",
      "Buzz\n",
      "fizz\n",
      "22\n",
      "23\n",
      "fizz\n",
      "Buzz\n",
      "26\n",
      "fizz\n",
      "28\n",
      "29\n",
      "fizzBuzz\n",
      "31\n",
      "32\n",
      "fizz\n",
      "34\n",
      "Buzz\n",
      "fizz\n",
      "37\n",
      "38\n",
      "fizz\n",
      "Buzz\n",
      "41\n",
      "fizz\n",
      "43\n",
      "44\n",
      "fizzBuzz\n",
      "46\n",
      "47\n",
      "fizz\n",
      "49\n",
      "Buzz\n",
      "fizz\n",
      "52\n",
      "53\n",
      "fizz\n",
      "Buzz\n",
      "56\n",
      "fizz\n",
      "58\n",
      "59\n",
      "fizzBuzz\n",
      "61\n",
      "62\n",
      "fizz\n",
      "64\n",
      "Buzz\n",
      "fizz\n",
      "67\n",
      "68\n",
      "fizz\n",
      "Buzz\n",
      "71\n",
      "fizz\n",
      "73\n",
      "74\n",
      "fizzBuzz\n",
      "76\n",
      "77\n",
      "fizz\n",
      "79\n",
      "Buzz\n",
      "fizz\n",
      "82\n",
      "83\n",
      "fizz\n",
      "Buzz\n",
      "86\n",
      "fizz\n",
      "88\n",
      "89\n",
      "fizzBuzz\n",
      "91\n",
      "92\n",
      "fizz\n",
      "94\n",
      "Buzz\n",
      "fizz\n",
      "97\n",
      "98\n",
      "fizz\n",
      "Buzz\n",
      "101\n"
     ]
    }
   ],
   "source": [
    "fizz_buzz(101)"
   ]
  },
  {
   "cell_type": "markdown",
   "metadata": {},
   "source": [
    "### 8. [BONUS] Write a function with an if-else statement for multiple conditions:\n",
    "\n",
    "Write a function forecast(), that takes two arguments temperature (an integer in C) and weather (rain or shine) and prints a recommendation based on the conditions below:\n",
    "\n",
    "1. Temperature over 20 ˚C and rain: bring an umbrella.\n",
    "2. Temperature less than or equal to 20 ˚C and rain: bring and umbrella and a jacket.\n",
    "3. Temperature over 20 ˚C and sunshine: wear a t-shirt.\n",
    "4. Temperature less than or equal to 20 ˚C and sunshine: bring a jacket."
   ]
  },
  {
   "cell_type": "code",
   "execution_count": 244,
   "metadata": {},
   "outputs": [],
   "source": [
    "# A:\n",
    "def  forecast (temp , weather):\n",
    "    if temp > 20 and weather == 'rain':\n",
    "        print ('bring an umbrella')\n",
    "    elif temp <= 20 and weather == 'rain':\n",
    "        print ('bring and umbrella and a jacket')\n",
    "    elif temp > 20 and weather == 'sunshine':\n",
    "         print ('wear a t-shirt')\n",
    "    elif temp >= 20 and weather == 'sunshine':\n",
    "        print ('bring a jacket')"
   ]
  },
  {
   "cell_type": "code",
   "execution_count": 246,
   "metadata": {},
   "outputs": [
    {
     "name": "stdout",
     "output_type": "stream",
     "text": [
      "bring and umbrella and a jacket\n"
     ]
    }
   ],
   "source": [
    "Temperature (20, 'rain')"
   ]
  }
 ],
 "metadata": {
  "kernelspec": {
   "display_name": "Python 3",
   "language": "python",
   "name": "python3"
  },
  "language_info": {
   "codemirror_mode": {
    "name": "ipython",
    "version": 3
   },
   "file_extension": ".py",
   "mimetype": "text/x-python",
   "name": "python",
   "nbconvert_exporter": "python",
   "pygments_lexer": "ipython3",
   "version": "3.8.5"
  }
 },
 "nbformat": 4,
 "nbformat_minor": 2
}
