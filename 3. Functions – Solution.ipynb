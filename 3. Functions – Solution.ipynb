{
 "cells": [
  {
   "cell_type": "code",
   "execution_count": null,
   "metadata": {},
   "outputs": [],
   "source": [
    "# 3.1 Functions"
   ]
  },
  {
   "cell_type": "code",
   "execution_count": null,
   "metadata": {},
   "outputs": [],
   "source": [
    "# A. Write a function that accepts one parameter, name\n",
    "#    The function should print the message \"Hello, _____.\" filling in the blank with the name\n",
    "def greet(name):\n",
    "    print(f\"Hello, {name}.\")"
   ]
  },
  {
   "cell_type": "code",
   "execution_count": null,
   "metadata": {},
   "outputs": [],
   "source": [
    "# B. Write a function that accepts one parameter, a number\n",
    "#    The function should return true or false depending on whether the number is even\n",
    "def is_even(num):\n",
    "    return num % 2 == 0"
   ]
  },
  {
   "cell_type": "code",
   "execution_count": null,
   "metadata": {},
   "outputs": [],
   "source": [
    "# C. Write a function that accepts one parameter, a list\n",
    "#    The function should return the sum total of all numbers in the list, using a loop\n",
    "def sum_list(number_list):\n",
    "    sum = 0\n",
    "    for number in number_list:\n",
    "        sum += number\n",
    "    return sum"
   ]
  },
  {
   "cell_type": "code",
   "execution_count": null,
   "metadata": {},
   "outputs": [],
   "source": [
    "# D. Write a function that accepts one parameter, a dictionary\n",
    "#    The function should print the message \"Introducing ______ ______, ________!\"\n",
    "#    Fill in the blanks with the \"first_name\", \"last_name\", and \"title\" properties of the dictionary\n",
    "def hype_function(person):\n",
    "    print(f\"Introducing {person['first_name']} {person['last_name']}, {person['title']}!\")"
   ]
  },
  {
   "cell_type": "code",
   "execution_count": null,
   "metadata": {},
   "outputs": [],
   "source": [
    "# 3.2 Problem-Solving Functions"
   ]
  },
  {
   "cell_type": "code",
   "execution_count": null,
   "metadata": {},
   "outputs": [],
   "source": [
    "# A. Find the longest string in a given list of strings\n",
    "def longest_string_finder(str_list):\n",
    "    longest = str_list[0]\n",
    "    for string in str_list:\n",
    "        if len(string) > len(longest):\n",
    "            longest = string\n",
    "    return longest"
   ]
  },
  {
   "cell_type": "code",
   "execution_count": null,
   "metadata": {},
   "outputs": [],
   "source": [
    "# B. Determine whether a given list contains a given value\n",
    "def search_list(given_list, value):\n",
    "    for item in given_list:\n",
    "        if item == value:\n",
    "            return True\n",
    "    return False"
   ]
  },
  {
   "cell_type": "code",
   "execution_count": null,
   "metadata": {},
   "outputs": [],
   "source": [
    "# C. Count how many times a given string contains a given letter\n",
    "def char_count(string, letter):\n",
    "    count = 0\n",
    "    for char in string:\n",
    "        if char == letter:\n",
    "            count += 1\n",
    "    return count"
   ]
  },
  {
   "cell_type": "code",
   "execution_count": null,
   "metadata": {
    "scrolled": true
   },
   "outputs": [],
   "source": [
    "# D. Find the most common letter in a given string, and use the previous function in your answer\n",
    "def most_common_letter(string):\n",
    "    max_letter_so_far = string[0]\n",
    "    max_letter_count = 1\n",
    "    for letter in string:\n",
    "        instances_of_letter = char_count(string, letter)\n",
    "        if instances_of_letter > max_letter_count:\n",
    "            max_letter_so_far = letter\n",
    "            max_letter_count = instances_of_letter\n",
    "    return max_letter_so_far"
   ]
  },
  {
   "cell_type": "code",
   "execution_count": null,
   "metadata": {},
   "outputs": [],
   "source": [
    "# E. Find the area of a triangle given its length and height as parameters\n",
    "def area(length, height):\n",
    "    return (length * height)/2"
   ]
  },
  {
   "cell_type": "code",
   "execution_count": null,
   "metadata": {},
   "outputs": [],
   "source": [
    "# 3.3 So Much To Do\n",
    "# Reading code can be just as important as writing code!\n",
    "# Add a comment to each line of this python script, attempting to explain what it does\n",
    "# You may want to consult documentation for some of the file methods\n",
    "with open(\"./to_do_list.txt\", \"a+\") as file:\n",
    "    print(\"Welcome to ToDoVille! Here are your items:\")\n",
    "    file.seek(0)\n",
    "    lines = file.readlines()\n",
    "    for line in lines:\n",
    "        print(line)\n",
    "    current_command = \"\"\n",
    "    while(current_command != \"q\"):\n",
    "        current_command = input(\"Awaiting further commands. [q] to quit, [a] to add new item, [p] to print list: \")\n",
    "        if(current_command == \"a\"):\n",
    "            new_item = input(\"Type your todo below: \")\n",
    "            file.write(new_item + \"\\n\")\n",
    "        elif(current_command == \"p\"):\n",
    "            file.seek(0)\n",
    "            lines = file.readlines()\n",
    "            for line in lines:\n",
    "                print(line)"
   ]
  },
  {
   "cell_type": "code",
   "execution_count": null,
   "metadata": {},
   "outputs": [],
   "source": [
    "# 3.4 Writing to CSV\n",
    "import csv\n",
    "employees = [\n",
    "  {\n",
    "    \"first_name\": \"Hennah\", \n",
    "    \"last_name\": \"Chadwick\",\n",
    "    \"job_title\": \"Vice President\",\n",
    "    \"hire_date\": 1985,\n",
    "    \"performance_review\": \"excellent\"\n",
    "  }, {\n",
    "    \"first_name\": \"Michael\", \n",
    "    \"last_name\": \"Bolton\",\n",
    "    \"job_title\": \"Programmer\",\n",
    "    \"hire_date\": 1995,\n",
    "    \"performance_review\": \"poor\"\n",
    "  }, {\n",
    "    \"first_name\": \"Ellesse\", \n",
    "    \"last_name\": \"Jaramillo\",\n",
    "    \"job_title\": \"Programmer\",\n",
    "    \"hire_date\": 1989,\n",
    "    \"performance_review\": \"poor\"\n",
    "  }, {\n",
    "    \"first_name\": \"Samir\", \n",
    "    \"last_name\": \"Nagheenanajar\",\n",
    "    \"job_title\": \"Programmer\",\n",
    "    \"hire_date\": 1974,\n",
    "    \"performance_review\": \"fair\"\n",
    "  }, {\n",
    "    \"first_name\": \"Milton\", \n",
    "    \"last_name\": \"Waddams\",\n",
    "    \"job_title\": \"Collator\",\n",
    "    \"hire_date\": 1974,\n",
    "    \"performance_review\": \"does he even work here?\"\n",
    "  }, {\n",
    "    \"first_name\": \"Bob\", \n",
    "    \"last_name\": \"Porter\",\n",
    "    \"job_title\": \"Consultant\",\n",
    "    \"hire_date\": 1999,\n",
    "    \"performance_review\": \"excellent\"\n",
    "  }, {\n",
    "    \"first_name\": \"Bob\", \n",
    "    \"last_name\": \"Slydell\",\n",
    "    \"job_title\": \"Consultant\",\n",
    "    \"hire_date\": 1999,\n",
    "    \"performance_review\": \"excellent\"\n",
    "  }\n",
    "]\n",
    "# A. Write the above list of dictionaries to a csv file titled all_evaluations.csv\n",
    "#    Include a column named \"action_item\" with the following logic:\n",
    "#    If the performance_review is \"poor\" the action_item should be \"terminate\"\n",
    "#    If the performance_review is \"excellent\" the action_item should be \"bonus\"\n",
    "#    Otherwise, the action_item should be \"attend GA workshop\"\n",
    "with open(\"./all_evaluations.csv\", \"w\") as file:\n",
    "    fieldnames = list(employees[0].keys())\n",
    "    fieldnames.append(\"action_item\")\n",
    "    writer = csv.DictWriter(file, fieldnames=fieldnames)\n",
    "    for employee in employees:\n",
    "        row = employee\n",
    "        if employee[\"performance_review\"] == \"poor\":\n",
    "            row[\"action_item\"] = \"terminate\"\n",
    "        elif employee[\"performance_review\"] == \"excellent\":\n",
    "            row[\"action_item\"] = \"bonus\"\n",
    "        else:\n",
    "            row[\"action_item\"] = \"attend GA workshop\"\n",
    "        writer.writerow(row)"
   ]
  },
  {
   "cell_type": "code",
   "execution_count": null,
   "metadata": {},
   "outputs": [],
   "source": [
    "# B. Create a csv file of only employees with \"excellent\" reviews titled bonus_list.csv\n",
    "with open(\"./bonus_list.csv\", \"w\") as file:\n",
    "    fieldnames = list(employees[0].keys())\n",
    "    writer = csv.DictWriter(file, fieldnames=fieldnames)\n",
    "    for employee in employees:\n",
    "        if employee[\"performance_review\"] == \"excellent\":\n",
    "            writer.writerow(employee)"
   ]
  },
  {
   "cell_type": "code",
   "execution_count": null,
   "metadata": {},
   "outputs": [],
   "source": [
    "# 3.5 Stretch Goal: Ultimate RPS Challenge\n",
    "# Complete the following game to create csv records of each round's results\n",
    "import os\n",
    "choices = [\"rock\", \"paper\", \"scissors\"]\n",
    "headings = [\"player_choice\", \"computer_choice\", \"result\"]\n",
    "\n",
    "# This is the logic to create the results csv if it doesn't exist already\n",
    "if not os.path.exists(\"./rock_paper_scissors_results.csv\"):\n",
    "    with open(\"./rock_paper_scissors_results.csv\", \"w\") as file:\n",
    "        # A. Use csv.DictWriter to write the headings into the file\n",
    "        writer = csv.DictWriter(file, fieldnames=headings)\n",
    "        writer.writeheader()\n",
    "        \n",
    "# B. This function should write game results to the csv file using csv.DictWriter        \n",
    "def store_result(player_choice, computer_choice, result, file):\n",
    "    writer = csv.DictWriter(file, fieldnames=headings)\n",
    "    writer.writerow({\"player_choice\":player_choice, \"computer_choice\":computer_choice, \"result\":result})\n",
    "        \n",
    "with open(\"./rock_paper_scissors_results.csv\", \"a+\") as file:\n",
    "    current_choice = \"\"\n",
    "    print(\"Welcome to the arena of RPS!\")\n",
    "    while(current_choice != \"q\"):\n",
    "        # C. Solicit the user's input of the three choices. Include a choice to hit q to quit as well.\n",
    "        current_choice = input(\"Choose [rock], [paper], [scissors], or [q] to quit\")\n",
    "        # D. Set a variable named computer_choice equal to a random choice from the choices list\n",
    "        computer_choice = random.choice(choices)\n",
    "        if(current_choice == \"rock\"):\n",
    "            if(computer_choice == \"paper\"):\n",
    "                store_result(current_choice, computer_choice, \"loss\", file)\n",
    "            elif(computer_choice == \"scissors\"):\n",
    "                store_result(current_choice, computer_choice, \"win\", file)\n",
    "            else:\n",
    "                store_result(current_choice, computer_choice, \"tie\", file)\n",
    "        elif(current_choice == \"paper\"):\n",
    "            if(computer_choice == \"scissors\"):\n",
    "                store_result(current_choice, computer_choice, \"loss\", file)\n",
    "            elif(computer_choice == \"rock\"):\n",
    "                store_result(current_choice, computer_choice, \"win\", file)\n",
    "            else:\n",
    "                store_result(current_choice, computer_choice, \"tie\", file)\n",
    "        elif(current_choice == \"scissors\"):\n",
    "            if(computer_choice == \"rock\"):\n",
    "                store_result(current_choice, computer_choice, \"loss\", file)\n",
    "            elif(computer_choice == \"paper\"):\n",
    "                store_result(current_choice, computer_choice, \"win\", file)\n",
    "            else:\n",
    "                store_result(current_choice, computer_choice, \"tie\", file)\n",
    "        elif(current_choice != \"q\"):\n",
    "            print(\"Invalid choice! Try again.\")\n",
    "            "
   ]
  },
  {
   "cell_type": "code",
   "execution_count": null,
   "metadata": {},
   "outputs": [],
   "source": [
    "with open(\"./rock_paper_scissors_results.csv\", \"r\") as file:\n",
    "    wins = 0\n",
    "    losses = 0\n",
    "    # E. Analyze the csv of results by counting how many wins and losses there have been using csv.DictReader\n",
    "    #    Print a message listing the total wins and losses in the csv\n",
    "    results = csv.DictReader(file)\n",
    "    for result in results:\n",
    "        if result[\"result\"] == \"win\":\n",
    "            wins += 1\n",
    "        elif result[\"result\"] == \"loss\":\n",
    "            losses += 1\n",
    "    print(f\"You have won {wins} times and lost {losses} times\")"
   ]
  }
 ],
 "metadata": {
  "kernelspec": {
   "display_name": "Python 3",
   "language": "python",
   "name": "python3"
  },
  "language_info": {
   "codemirror_mode": {
    "name": "ipython",
    "version": 3
   },
   "file_extension": ".py",
   "mimetype": "text/x-python",
   "name": "python",
   "nbconvert_exporter": "python",
   "pygments_lexer": "ipython3",
   "version": "3.8.3"
  }
 },
 "nbformat": 4,
 "nbformat_minor": 4
}
